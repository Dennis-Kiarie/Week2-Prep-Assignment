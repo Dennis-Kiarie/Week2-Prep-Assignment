{
  "nbformat": 4,
  "nbformat_minor": 0,
  "metadata": {
    "colab": {
      "name": "Thursday-Wk2  Python Programming: While Loops ",
      "provenance": [],
      "collapsed_sections": [],
      "toc_visible": true
    },
    "kernelspec": {
      "name": "python3",
      "display_name": "Python 3"
    }
  },
  "cells": [
    {
      "cell_type": "markdown",
      "metadata": {
        "id": "BSv_43aDRGBd"
      },
      "source": [
        "<font color=\"green\">*To start working on this notebook, or any other notebook that we will use in the Moringa Data Science Course, we will need to save our own copy of it. We can do this by clicking File > Save a Copy in Drive. We will then be able to make edits to our own copy of this notebook.*</font>"
      ]
    },
    {
      "cell_type": "markdown",
      "metadata": {
        "id": "0hkJ3D_I8PHe"
      },
      "source": [
        "# Python Programming: While Loops "
      ]
    },
    {
      "cell_type": "markdown",
      "metadata": {
        "id": "i2g_QFDd8RuT"
      },
      "source": [
        "## 1.0 Iterating over a While Loop"
      ]
    },
    {
      "cell_type": "code",
      "metadata": {
        "id": "84FCIuE4FfUg",
        "colab": {
          "base_uri": "https://localhost:8080/"
        },
        "outputId": "8e89f26a-3440-4cbb-e986-8e87aebdbea8"
      },
      "source": [
        "# Example 1\n",
        "# Below is an example of a program that iterates through the use of a while loop \n",
        "# We will start counting from 1, and then stop at 19 \n",
        "# (each time increasing the value of the count by 1)\n",
        "#\n",
        "\n",
        "# Defining where our loop will start counting from\n",
        "increment_count = 1\n",
        "\n",
        "# Performing our iteration by first defining when to perform the iteration \n",
        "# in this case when the increment count is less than 20 and greater than 0\n",
        "# \n",
        "while 20 > increment_count > 0:\n",
        "  \n",
        "    print ('Increment = ', increment_count)\n",
        "    \n",
        "    # incrementing our increment_count by 1\n",
        "    increment_count = increment_count + 1"
      ],
      "execution_count": null,
      "outputs": [
        {
          "output_type": "stream",
          "text": [
            "Increment =  1\n",
            "Increment =  2\n",
            "Increment =  3\n",
            "Increment =  4\n",
            "Increment =  5\n",
            "Increment =  6\n",
            "Increment =  7\n",
            "Increment =  8\n",
            "Increment =  9\n",
            "Increment =  10\n",
            "Increment =  11\n",
            "Increment =  12\n",
            "Increment =  13\n",
            "Increment =  14\n",
            "Increment =  15\n",
            "Increment =  16\n",
            "Increment =  17\n",
            "Increment =  18\n",
            "Increment =  19\n"
          ],
          "name": "stdout"
        }
      ]
    },
    {
      "cell_type": "code",
      "metadata": {
        "id": "PV7t7NG4IWgl",
        "colab": {
          "base_uri": "https://localhost:8080/"
        },
        "outputId": "49d10245-dcc9-4ffc-9e3d-9a4b3a3bf59f"
      },
      "source": [
        "# Example 2\n",
        "# Iterating over a list using a while loop\n",
        "#\n",
        "\n",
        "# First defining our list\n",
        "facilitators = ['James', 'Rosa', 'Nyambura', 'Emma', 'Leila', 'Simon', 'Lucy', 'Sabina', 'Isaac']\n",
        "\n",
        "# Our while loop will start counting from 0,\n",
        "i = 0\n",
        "\n",
        "# determining the no. of elements in our facilitators list\n",
        "no_of_facilitators = len(facilitators) \n",
        "\n",
        "# Performing our iteration, starting from 0 until i is not less than the no_of_facilitators\n",
        "while i < no_of_facilitators:\n",
        "  \n",
        "  # print out the element in the list as per the index\n",
        "  print(facilitators[i])\n",
        "  \n",
        "  # incrementing our i by 1\n",
        "  i += 1"
      ],
      "execution_count": null,
      "outputs": [
        {
          "output_type": "stream",
          "text": [
            "James\n",
            "Rosa\n",
            "Nyambura\n",
            "Emma\n",
            "Leila\n",
            "Simon\n",
            "Lucy\n",
            "Sabina\n",
            "Isaac\n"
          ],
          "name": "stdout"
        }
      ]
    },
    {
      "cell_type": "code",
      "metadata": {
        "id": "wZxd3taRIXFU",
        "colab": {
          "base_uri": "https://localhost:8080/"
        },
        "outputId": "2804c569-e337-4b1d-a1ea-755ffa57f40a"
      },
      "source": [
        "# Example 3\n",
        "# In this example we will work with nested while loops \n",
        "#\n",
        "\n",
        "# Creating an integer\n",
        "n = 1\n",
        "\n",
        "# Iterating whilst the value of n is less than or equal to 2\n",
        "while n <= 2:\n",
        "\n",
        "    # Creating an integer\n",
        "    m = 1\n",
        "\n",
        "    # Iterating whilst the value of m is less than or equal to 2\n",
        "    while m <= 3:\n",
        "        print('outer loop iteration {}, nested loop iteration {}'.format(n, m))\n",
        "\n",
        "        # Adding 1 to value m\n",
        "        m += 1\n",
        "\n",
        "    # Adding 1 to value n\n",
        "    n += 1"
      ],
      "execution_count": null,
      "outputs": [
        {
          "output_type": "stream",
          "text": [
            "outer loop iteration 1, nested loop iteration 1\n",
            "outer loop iteration 1, nested loop iteration 2\n",
            "outer loop iteration 1, nested loop iteration 3\n",
            "outer loop iteration 2, nested loop iteration 1\n",
            "outer loop iteration 2, nested loop iteration 2\n",
            "outer loop iteration 2, nested loop iteration 3\n"
          ],
          "name": "stdout"
        }
      ]
    },
    {
      "cell_type": "markdown",
      "metadata": {
        "id": "Rq3yNgQ8PDsY"
      },
      "source": [
        "### <font color=\"green\"> 1.0 Challenges </font>"
      ]
    },
    {
      "cell_type": "code",
      "metadata": {
        "id": "YIqwK5ZEPbKv",
        "colab": {
          "base_uri": "https://localhost:8080/"
        },
        "outputId": "13a9dc49-62bd-426b-e491-42176b61fa30"
      },
      "source": [
        "# Challenge 1\n",
        "# Print out the numbers between 1 and 10 inclusive using a while loop\n",
        "#\n",
        "# Defining where our loop will start counting from\n",
        "i=0\n",
        "\n",
        "# Performing our iteration by first defining when to perform the iteration \n",
        "#increment count is less than or equal to 10 \n",
        "while i<=10:\n",
        "  print(f\"Increment  {i}\")\n",
        "# incrementing our increment_count by 1\n",
        "  i=i+1\n",
        "\n"
      ],
      "execution_count": null,
      "outputs": [
        {
          "output_type": "stream",
          "text": [
            "Increment  0\n",
            "Increment  1\n",
            "Increment  2\n",
            "Increment  3\n",
            "Increment  4\n",
            "Increment  5\n",
            "Increment  6\n",
            "Increment  7\n",
            "Increment  8\n",
            "Increment  9\n",
            "Increment  10\n"
          ],
          "name": "stdout"
        }
      ]
    },
    {
      "cell_type": "code",
      "metadata": {
        "id": "zlUiz3BsPbA2",
        "colab": {
          "base_uri": "https://localhost:8080/"
        },
        "outputId": "9d00278e-7249-4fb1-d207-1750d3827daf"
      },
      "source": [
        "# Challenge 2\n",
        "# Iterate through given years in the defined list below and stop at the year 2004, \n",
        "# then print out the number of iterations. \n",
        "# First define our list\n",
        "dates_list = ['2001', '2002', '2003', '2004', '2005', '2006', '2007', '2008', '2009', '2010']\n",
        "# Our while loop will start counting from o\n",
        "i=0\n",
        "# Determine the number of elements in the list\n",
        "year=len(dates_list)\n",
        "#Performing our iteration, starting from 0 until i is not less than or equal to the year\n",
        "while i<=3:\n",
        "  print(dates_list[i])\n",
        "# increment i by 1\n",
        "  i=i+1\n",
        "\n",
        "\n",
        "\n",
        "\n"
      ],
      "execution_count": null,
      "outputs": [
        {
          "output_type": "stream",
          "text": [
            "2001\n",
            "2002\n",
            "2003\n",
            "2004\n"
          ],
          "name": "stdout"
        }
      ]
    },
    {
      "cell_type": "code",
      "metadata": {
        "id": "qbT7YJz2Pa5K",
        "colab": {
          "base_uri": "https://localhost:8080/"
        },
        "outputId": "252307dd-86b0-40e7-fce4-2417aa0bf48d"
      },
      "source": [
        "# Challenge 3\n",
        "# Using a nested loop, print “X is negative” as long as x is less than 0?\n",
        "# \n",
        "# Creating an integer\n",
        "x =-3\n",
        "\n",
        "# Iterating whilst the value of x is less than 0\n",
        "while x < 0:\n",
        "\n",
        "    # Creating an integer\n",
        "    y = -3\n",
        "\n",
        "    # Iterating whilst the value of y is less than  0\n",
        "    while y < 0:\n",
        "        print('outer loop iteration {}, nested loop iteration {}'.format(x, y))\n",
        "\n",
        "        # Adding 1 to value y\n",
        "        y += 1\n",
        "\n",
        "    # Adding 1 to value x\n",
        "    x += 1\n"
      ],
      "execution_count": null,
      "outputs": [
        {
          "output_type": "stream",
          "text": [
            "outer loop iteration -3, nested loop iteration -3\n",
            "outer loop iteration -3, nested loop iteration -2\n",
            "outer loop iteration -3, nested loop iteration -1\n",
            "outer loop iteration -2, nested loop iteration -3\n",
            "outer loop iteration -2, nested loop iteration -2\n",
            "outer loop iteration -2, nested loop iteration -1\n",
            "outer loop iteration -1, nested loop iteration -3\n",
            "outer loop iteration -1, nested loop iteration -2\n",
            "outer loop iteration -1, nested loop iteration -1\n"
          ],
          "name": "stdout"
        }
      ]
    },
    {
      "cell_type": "markdown",
      "metadata": {
        "id": "o2l2ojIRIXs9"
      },
      "source": [
        "## 1.2 The Break Statement"
      ]
    },
    {
      "cell_type": "code",
      "metadata": {
        "id": "G9Y85nvWMIpK",
        "colab": {
          "base_uri": "https://localhost:8080/"
        },
        "outputId": "39bc4b7c-f8e1-4100-c0c0-b6d3b015b927"
      },
      "source": [
        "# Example 1\n",
        "# The break statement allows you to exit a loop from any point within its body. \n",
        "# We can use a break statement while as shown\n",
        "#  \n",
        "\n",
        "n = 1\n",
        "\n",
        "while True:\n",
        "  \n",
        "    print (n)\n",
        "    \n",
        "    n+=1\n",
        "    \n",
        "    if n==4:\n",
        "      \n",
        "        break\n",
        "    \n",
        "print(\"After Break\")"
      ],
      "execution_count": null,
      "outputs": [
        {
          "output_type": "stream",
          "text": [
            "1\n",
            "2\n",
            "3\n",
            "After Break\n"
          ],
          "name": "stdout"
        }
      ]
    },
    {
      "cell_type": "code",
      "metadata": {
        "id": "2l8qKnW1MJUH",
        "colab": {
          "base_uri": "https://localhost:8080/"
        },
        "outputId": "92d34c1a-36f5-4e7f-f8af-d24a5e75de9e"
      },
      "source": [
        "# Example 2\n",
        "# Using a break statement while iterating over our facilitators\n",
        "#\n",
        "\n",
        "# First defining our list\n",
        "facilitators = ['James', 'Rosa', 'Nyambura', 'Emma', 'Leila', 'Simon', 'Lucy', 'Sabina', 'Isaac']\n",
        "\n",
        "# Our while loop will start counting from 0,\n",
        "i = 0\n",
        "\n",
        "# determining the no. of elements in our facilitators list\n",
        "no_of_facilitators = len(facilitators) \n",
        "\n",
        "# defining our word variable\n",
        "word = \"Emma\"\n",
        "\n",
        "\n",
        "# Performing our iteration, starting from 0 until i is not less than the no_of_facilitators\n",
        "while i < no_of_facilitators:\n",
        "  \n",
        "  # print out the element in the list as per the index\n",
        "  if word == facilitators[i]:\n",
        "    \n",
        "      print(\"Find the element at position:\",i)\n",
        "    \n",
        "      break\n",
        "  \n",
        "  # incrementing our i by 1\n",
        "  i += 1"
      ],
      "execution_count": null,
      "outputs": [
        {
          "output_type": "stream",
          "text": [
            "Find the element at position: 3\n"
          ],
          "name": "stdout"
        }
      ]
    },
    {
      "cell_type": "code",
      "metadata": {
        "id": "yKHgYoplhF9D",
        "colab": {
          "base_uri": "https://localhost:8080/"
        },
        "outputId": "2aefc1df-bdf0-41cd-df98-1fec426a14aa"
      },
      "source": [
        "# Example 3\n",
        "# Imax theatre charges different ticket prices depending on a persons age.  \n",
        "# If a person is under the age of 3, the ticket is free; \n",
        "# If they are between 3 and 12, the ticket is Ksh.500; \n",
        "# and if they are over age 12, the ticket is Ksh.800.  \n",
        "# Write a loop in which you ask their age, and then tell them the cost of the ticket.\n",
        "#\n",
        "\n",
        "prompt = \"\\nPlease enter your age so we can tell you the price of the ticket:\"\n",
        "prompt += \"\\n(Enter 'done' when you are finished.) \"\n",
        "\n",
        "while True:\n",
        "    age = input(prompt)\n",
        "    if age == 'done':\n",
        "        break\n",
        "    age = int(age)\n",
        "\n",
        "    if age < 3:\n",
        "        print(\"Since you are \" + str(age) + \" the cost of the movie ticket is Free!\")\n",
        "    elif age > 3 and age <= 12:\n",
        "        print(\"Since you are \" + str(age) + \" the cost of the movie ticket is Ksh.500.\")\n",
        "    else:\n",
        "        print(\"Since you are \" + str(age) + \" the cost of the movie ticket is Ksh.800\")"
      ],
      "execution_count": null,
      "outputs": [
        {
          "output_type": "stream",
          "text": [
            "Since you are 25 the cost of the movie ticket is Ksh.800\n",
            "Since you are 25 the cost of the movie ticket is Ksh.800\n",
            "Since you are 25 the cost of the movie ticket is Ksh.800\n"
          ],
          "name": "stdout"
        }
      ]
    },
    {
      "cell_type": "markdown",
      "metadata": {
        "id": "aoHtqtjuabCr"
      },
      "source": [
        "### <font color=\"green\">1.2 Challenges</font>"
      ]
    },
    {
      "cell_type": "code",
      "metadata": {
        "id": "Dd1_N4MRad_Q",
        "colab": {
          "base_uri": "https://localhost:8080/"
        },
        "outputId": "bbdb7370-e3fe-4202-809a-1ff39c3849a9"
      },
      "source": [
        "# Challenge 1\n",
        "# Write a while loop to display the values of the Rating of an album playlist \n",
        "# stored in the list “PlayListRatings”. If the score is less than 6, exit the loop. \n",
        "# The list “PlayListRatings” is given by: PlayListRatings = [10, 9.5, 10, 8, 7.5, 5, 10, 10]:\n",
        "i =0\n",
        "PlayListRatings=[10, 9.5, 10, 8, 7.5, 5, 10, 10]\n",
        "score=len(PlayListRatings)\n",
        "while True :\n",
        "  print(PlayListRatings [i])\n",
        "  i=i+1\n",
        "  if i==5:\n",
        "    break\n",
        "print ('Done')\n",
        "  \n",
        "\n",
        " \n"
      ],
      "execution_count": null,
      "outputs": [
        {
          "output_type": "stream",
          "text": [
            "10\n",
            "9.5\n",
            "10\n",
            "8\n",
            "7.5\n",
            "Done\n"
          ],
          "name": "stdout"
        }
      ]
    },
    {
      "cell_type": "code",
      "metadata": {
        "id": "DqQMoboYaelF",
        "colab": {
          "base_uri": "https://localhost:8080/"
        },
        "outputId": "a3a02549-4a58-41b5-b98c-ea71d8c359bc"
      },
      "source": [
        "# Challenge 2\n",
        "# Iterate through the following names list and stop if the name is Andrew\n",
        "# \n",
        "\n",
        "# Define the list\n",
        "names_list = ['Jane', 'Jeremy', 'Pauline', 'George', 'Andrew', 'Michael']\n",
        "# while loop will start counting from 0\n",
        "i=0\n",
        "# determining the no. of elements in our names list\n",
        "no_of_names = len(names_list) \n",
        "\n",
        "# Performing our iteration, starting from 0 until i is not less than the no_of_names\n",
        "while i < no_of_names:\n",
        "  \n",
        "  # print out the element in the list as per the index\n",
        "  print(names_list[i])\n",
        "  \n",
        "  # incrementing our i by 1\n",
        "  i += 1\n",
        "  if i==4:\n",
        "    break\n",
        "  \n",
        "\n",
        "        \n",
        "     \n",
        "\n",
        "\n",
        "\n",
        "\n"
      ],
      "execution_count": null,
      "outputs": [
        {
          "output_type": "stream",
          "text": [
            "Jane\n",
            "Jeremy\n",
            "Pauline\n",
            "George\n"
          ],
          "name": "stdout"
        }
      ]
    },
    {
      "cell_type": "code",
      "metadata": {
        "colab": {
          "base_uri": "https://localhost:8080/"
        },
        "id": "EoqNjdu9V_lL",
        "outputId": "08768465-f0f1-42c5-c4e5-b2e99b87508b"
      },
      "source": [
        "# Challenge 3\n",
        "# Write a program that finds the sum of any two numbers entered by a user, \n",
        "# If one of the numbers is a negative number then the program should stop, \n",
        "# else it could compute and display the sum;\n",
        "# \n",
        "\n",
        "f=int(input(\"Enter first number\"))\n",
        "s=int(input(\"Enter second number\"))\n",
        "while f<0 or s<0:\n",
        "  print('sorry!! u entered a negative number')\n",
        "  break\n",
        "else:\n",
        "  total=print(f\"sum is :{f+s}\")\n"
      ],
      "execution_count": null,
      "outputs": [
        {
          "output_type": "stream",
          "text": [
            "Enter first number4\n",
            "Enter second number-4\n",
            "sorry!! u entered a negative number\n"
          ],
          "name": "stdout"
        }
      ]
    },
    {
      "cell_type": "markdown",
      "metadata": {
        "id": "bJSuEO5NKzC6"
      },
      "source": [
        ""
      ]
    },
    {
      "cell_type": "code",
      "metadata": {
        "id": "IZR7OhHqhsZg",
        "colab": {
          "base_uri": "https://localhost:8080/"
        },
        "outputId": "c7c553ab-2789-4474-fcce-8d08d8f0dab7"
      },
      "source": [
        "# Example 1\n",
        "# The continue statement works like break but instead of forcing termination, \n",
        "# it forces the next iteration of the loop to take place \n",
        "# and skipping the rest of the code.\n",
        "# Below is our first example of using a continue statement while iterating over a list\n",
        "# \n",
        "\n",
        "# First defining our list\n",
        "facilitators = ['James', 'Rosa', 'Nyambura', 'Emma', 'Leila', 'Simon', 'Lucy', 'Sabina', 'Isaac']\n",
        "\n",
        "# Our while loop will start counting from 0,\n",
        "i = 0\n",
        "\n",
        "# determining the no. of elements in our facilitators list\n",
        "no_of_facilitators = len(facilitators) \n",
        "\n",
        "# defining our word variable\n",
        "word = \"Emma\"\n",
        "\n",
        "\n",
        "# Performing our iteration, starting from 0 until i is not less than the no_of_facilitators\n",
        "while i < no_of_facilitators:\n",
        "  \n",
        "    print(\"Checking element:\", i)\n",
        "    \n",
        "    if word != facilitators[i]:\n",
        "        \n",
        "        i = i + 1\n",
        "        \n",
        "        continue\n",
        " \n",
        "    print(\"Find the element at \", i)\n",
        "    \n",
        "    # stop the loop\n",
        "    i = no_of_facilitators  "
      ],
      "execution_count": null,
      "outputs": [
        {
          "output_type": "stream",
          "text": [
            "Checking element: 0\n",
            "Checking element: 1\n",
            "Checking element: 2\n",
            "Checking element: 3\n",
            "Find the element at  3\n"
          ],
          "name": "stdout"
        }
      ]
    },
    {
      "cell_type": "code",
      "metadata": {
        "id": "u-iOIUarhsK-",
        "colab": {
          "base_uri": "https://localhost:8080/"
        },
        "outputId": "558ed0be-4d97-4daa-8746-5818bfb17ca8"
      },
      "source": [
        "# Example 2\n",
        "# Asking the user for input and printing the input if is isn't #. \n",
        "# if the input is #, we continue else if the input is 'done' we end the loop\n",
        "#\n",
        "\n",
        "print(\"Type 'done' when you want to leave the loop.\")\n",
        "\n",
        "while True:\n",
        "    name = input('Please enter your name: ')\n",
        "    if name == '#':\n",
        "      \n",
        "        continue \n",
        "        \n",
        "    if name == 'done':\n",
        "      \n",
        "        break\n",
        "        \n",
        "    print(name)\n",
        "    \n",
        "\n",
        "print('Done!')\n"
      ],
      "execution_count": null,
      "outputs": [
        {
          "output_type": "stream",
          "text": [
            "Type 'done' when you want to leave the loop.\n",
            "Please enter your name: Dennis\n",
            "Dennis\n",
            "Please enter your name: done\n",
            "Done!\n"
          ],
          "name": "stdout"
        }
      ]
    },
    {
      "cell_type": "markdown",
      "metadata": {
        "id": "c13xlVleK8Dd"
      },
      "source": [
        "### <font color=\"green\">1.3 Challenges</font>\n"
      ]
    },
    {
      "cell_type": "code",
      "metadata": {
        "id": "yyauW4_yurxI",
        "colab": {
          "base_uri": "https://localhost:8080/"
        },
        "outputId": "93efa653-b69c-462c-8175-f52725b5cbc7"
      },
      "source": [
        "# Challenge 1\n",
        "# Let's while loop that prints out the following color list. \n",
        "# If should skip the color green during iteration.\n",
        "#\n",
        "\n",
        "color = ['red', 'yellow', 'green', 'white', 'purple', 'blue']\n",
        "\n",
        "i=0\n",
        "# determining the no. of elements in our facilitators list\n",
        "no_of_color= len(color) \n",
        "\n",
        "# Performing our iteration, starting from 0 until i is not less than the no_of_facilitators\n",
        "while i < no_of_color:\n",
        "  # print out the element in the list as per the index\n",
        "  print(color[i])\n",
        "  \n",
        "  # incrementing our i by 1\n",
        "  i += 1\n",
        "  if i==2:\n",
        "    continue\n",
        "    \n",
        "    \n",
        "\n",
        " \n"
      ],
      "execution_count": null,
      "outputs": [
        {
          "output_type": "stream",
          "text": [
            "red\n",
            "yellow\n",
            "green\n",
            "white\n",
            "purple\n",
            "blue\n"
          ],
          "name": "stdout"
        }
      ]
    },
    {
      "cell_type": "markdown",
      "metadata": {
        "id": "m-WluVZoLBie"
      },
      "source": [
        "## 1.4 The Else Statement"
      ]
    },
    {
      "cell_type": "code",
      "metadata": {
        "id": "7-CCMfxfOj4L",
        "colab": {
          "base_uri": "https://localhost:8080/"
        },
        "outputId": "59a6d9ed-ce6b-4ad4-9274-a0151e2d1f7d"
      },
      "source": [
        "# Example 1\n",
        "# Showing how the else statement works with the while loop\n",
        "# \n",
        "\n",
        "# Defining our start count\n",
        "counting = 0\n",
        "\n",
        "# \n",
        "while counting < 3:\n",
        "  \n",
        "    print(\"Iterating inside while loop\")\n",
        "    \n",
        "    counting = counting + 1\n",
        "    \n",
        "# The else statement will run if the while condition becomes false\n",
        "else:\n",
        "    print(\"Running the else block...\")\n"
      ],
      "execution_count": null,
      "outputs": [
        {
          "output_type": "stream",
          "text": [
            "Iterating inside while loop\n",
            "Iterating inside while loop\n",
            "Iterating inside while loop\n",
            "Running the else block...\n"
          ],
          "name": "stdout"
        }
      ]
    },
    {
      "cell_type": "code",
      "metadata": {
        "id": "-ku-JJLqvMql"
      },
      "source": [
        "# Example 2\n",
        "# Another example of using an else and a break statement in a while loop\n",
        "#\n",
        "\n",
        "myNum = 6\n",
        "\n",
        "myVar = 1\n",
        "\n",
        "while myVar <= 10 :\n",
        "  \n",
        "    if myVar == myNum :\n",
        "      \n",
        "            print(\"Breaking out of the loop\")\n",
        "        \n",
        "            break\n",
        "        \n",
        "    print(\"This number = \" + str(myVar))\n",
        "        \n",
        "    myVar += 1\n",
        "    \n",
        "else:\n",
        "  \n",
        "    print(\"Break statement is executed, printing 'else' block\")"
      ],
      "execution_count": null,
      "outputs": []
    },
    {
      "cell_type": "code",
      "metadata": {
        "id": "OZU30VcZvNEz",
        "colab": {
          "base_uri": "https://localhost:8080/"
        },
        "outputId": "b16555b1-f7dd-4df1-e043-71043480370c"
      },
      "source": [
        "# Example 3\n",
        "# Say we want write the first ten numbers shown below. \n",
        "# But for the final number (i.e. 10), we want to write “The final count is: “.\n",
        "# \n",
        "\n",
        "count = 0\n",
        "\n",
        "while count < 10:\n",
        "  \n",
        "    print(\"The current count is: \", count)\n",
        "      \n",
        "    count += 1\n",
        "    \n",
        "else:\n",
        "  \n",
        "    print(\"The final count is: \", count)"
      ],
      "execution_count": null,
      "outputs": [
        {
          "output_type": "stream",
          "text": [
            "The current count is:  0\n",
            "The current count is:  1\n",
            "The current count is:  2\n",
            "The current count is:  3\n",
            "The current count is:  4\n",
            "The current count is:  5\n",
            "The current count is:  6\n",
            "The current count is:  7\n",
            "The current count is:  8\n",
            "The current count is:  9\n",
            "The final count is:  10\n"
          ],
          "name": "stdout"
        }
      ]
    },
    {
      "cell_type": "markdown",
      "metadata": {
        "id": "pt06jAbBLK7j"
      },
      "source": [
        "### <font color=\"green\">1.4 Challenges</font>"
      ]
    },
    {
      "cell_type": "code",
      "metadata": {
        "id": "VXM0D76BvgnX",
        "colab": {
          "base_uri": "https://localhost:8080/"
        },
        "outputId": "11ad127e-a56b-4562-ba92-62b9d1a14ec2"
      },
      "source": [
        "# Example 1\n",
        "# Write a program that takes in tempearature from a user, \n",
        "# checks whether the temperature is > 40 degrees Celcius, \n",
        "# then prints out whether the templerature is too hot or cold.\n",
        "# \n",
        "\n",
        "temperature=int(input('Enter temperature in (°C) :'))\n",
        "i=0\n",
        "while i<=temperature:\n",
        "  print(f\"{temperature} °C  normal\")\n",
        "  break\n",
        "if temperature > 40:\n",
        "    print(f\"{temperature} °C is too high \")\n",
        "  \n",
        "if temperature < 34:\n",
        "      print(f\"{temperature} °C is too low \")\n",
        "else :\n",
        "  print('call for help')"
      ],
      "execution_count": null,
      "outputs": [
        {
          "output_type": "stream",
          "text": [
            "Enter temperature in (°C) :37\n",
            "37 °C  normal\n",
            "call for help\n"
          ],
          "name": "stdout"
        }
      ]
    },
    {
      "cell_type": "code",
      "metadata": {
        "id": "lg-2KZfOOsxR",
        "colab": {
          "base_uri": "https://localhost:8080/"
        },
        "outputId": "0332deac-2cc7-4c9a-d357-9d0b69cb945b"
      },
      "source": [
        "# Example 2\n",
        "# Let's a program that takes a number between 0 - 100 as input. \n",
        "# If we enter a valid number 3 times, then the while loop runs successfully, \n",
        "# and the message from the else clause would get displayed i.e. \"While loop ended!\".\n",
        "# If we enter an invalid number, then the loop would get aborted \n",
        "# without execting the code in the else.\n",
        "#\n",
        " \n",
        "valid_number=77\n",
        "number_count=0\n",
        "number_limit=3\n",
        "\n",
        "while number_count < number_limit:\n",
        "  number=int(input('Enter number:'))\n",
        "  number_count +=1\n",
        "  if number==valid_number:\n",
        "    print(f\"{number} is a valid number\")\n",
        "  if number > 100:\n",
        "    break\n",
        "else:\n",
        "  print('While loop ended!')\n",
        "\n"
      ],
      "execution_count": null,
      "outputs": [
        {
          "output_type": "stream",
          "text": [
            "Enter number:77\n",
            "77 is a valid number\n",
            "Enter number:77\n",
            "77 is a valid number\n",
            "Enter number:77\n",
            "77 is a valid number\n",
            "While loop ended!\n"
          ],
          "name": "stdout"
        }
      ]
    }
  ]
}