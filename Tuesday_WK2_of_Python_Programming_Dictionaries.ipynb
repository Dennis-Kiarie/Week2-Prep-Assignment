{
  "nbformat": 4,
  "nbformat_minor": 0,
  "metadata": {
    "colab": {
      "name": "Tuesday-WK2- of Python Programming: Dictionaries",
      "provenance": [],
      "collapsed_sections": [],
      "toc_visible": true
    },
    "kernelspec": {
      "name": "python3",
      "display_name": "Python 3"
    }
  },
  "cells": [
    {
      "cell_type": "markdown",
      "metadata": {
        "id": "eOm53BqKoYpl"
      },
      "source": [
        "<font color=\"green\">*To start working on this notebook, or any other notebook that we will use in this course, we will need to save our own copy of it. We can do this by clicking File > Save a Copy in Drive. We will then be able to make edits to our own copy of this notebook.*</font>\n",
        "\n",
        "---\n",
        "\n"
      ]
    },
    {
      "cell_type": "markdown",
      "metadata": {
        "id": "w2gnEI4V253l"
      },
      "source": [
        "# Python Programming: Dictionaries"
      ]
    },
    {
      "cell_type": "markdown",
      "metadata": {
        "id": "aEqAjTGi3E3b"
      },
      "source": [
        "## 1.0 Overview\n"
      ]
    },
    {
      "cell_type": "markdown",
      "metadata": {
        "id": "nJhH3J6y3dBD"
      },
      "source": [
        "A dictionary is a collection of key-value pairs, which are unordered, changeable and indexed. Curly brackets are used when writing a dictionary."
      ]
    },
    {
      "cell_type": "markdown",
      "metadata": {
        "id": "a90lkqj_3IZr"
      },
      "source": [
        "## 1.1 Creating a Dictionary"
      ]
    },
    {
      "cell_type": "code",
      "metadata": {
        "id": "8XQMBtIU7EoL",
        "colab": {
          "base_uri": "https://localhost:8080/"
        },
        "outputId": "4a605330-3558-4b7e-c2e5-7cd3eb6976d4"
      },
      "source": [
        "# Example 1\n",
        "# We can create a dictionary by placing a sequence of elements within curly braces, \n",
        "# separated by commas as show in the following example.\n",
        "# Let's create a dictionary my_new_friend\n",
        "# \n",
        "my_new_friend = {\n",
        "    'name':'Femi', \n",
        "    'age': 24\n",
        "}\n",
        "\n",
        "# print \n",
        "print(my_new_friend)"
      ],
      "execution_count": null,
      "outputs": [
        {
          "output_type": "stream",
          "text": [
            "{'name': 'Femi', 'age': 24}\n"
          ],
          "name": "stdout"
        }
      ]
    },
    {
      "cell_type": "code",
      "metadata": {
        "id": "dg_8-2YO7EE3",
        "colab": {
          "base_uri": "https://localhost:8080/"
        },
        "outputId": "0fc04d6b-1868-4177-b2f2-a1304632c5e1"
      },
      "source": [
        "# Example 2\n",
        "# Let's create another dictionary car with keys; brand, model and year\n",
        "# \n",
        "car =\t{\n",
        "  'brand': 'Toyota',\n",
        "  'model': 'Prado',\n",
        "  'year': 2007\n",
        "}\n",
        "\n",
        "# Then display it to see what the dictionary contains\n",
        "print(car)"
      ],
      "execution_count": null,
      "outputs": [
        {
          "output_type": "stream",
          "text": [
            "{'brand': 'Toyota', 'model': 'Prado', 'year': 2007}\n"
          ],
          "name": "stdout"
        }
      ]
    },
    {
      "cell_type": "code",
      "metadata": {
        "id": "KiVcQaXH7D0R",
        "colab": {
          "base_uri": "https://localhost:8080/"
        },
        "outputId": "e32ecb95-44bb-48fc-e575-ad30decc35cc"
      },
      "source": [
        "# Example 3\n",
        "# Let's create another dictionary\n",
        "#\n",
        "our_class = {\n",
        "    'Name': '7 East', \n",
        "    'Students': 27, \n",
        "    'Wing': 'East'\n",
        "}\n",
        "\n",
        "# printing out our_class\n",
        "print(our_class)"
      ],
      "execution_count": null,
      "outputs": [
        {
          "output_type": "stream",
          "text": [
            "{'Name': '7 East', 'Students': 27, 'Wing': 'East'}\n"
          ],
          "name": "stdout"
        }
      ]
    },
    {
      "cell_type": "markdown",
      "metadata": {
        "id": "49K6mQJg7yUh"
      },
      "source": [
        "### 1.1 Challenges"
      ]
    },
    {
      "cell_type": "code",
      "metadata": {
        "id": "v5e2By6E76hW",
        "colab": {
          "base_uri": "https://localhost:8080/"
        },
        "outputId": "ab5b6593-561c-498d-d505-10be222fdeb9"
      },
      "source": [
        "# Challenge 1\n",
        "# Create a dictionary family with keys i.e. father,\n",
        "# mother, son and daughter. You can add values of your family\n",
        "# to the key values\n",
        "# \n",
        "\n",
        "family={ \n",
        "    'father':'Verd',\n",
        "    'mother':'Kipkorir',\n",
        "    'son': 'Rutto',\n",
        "    'daughter': 'Yatich'\n",
        "}\n",
        "print(family)"
      ],
      "execution_count": null,
      "outputs": [
        {
          "output_type": "stream",
          "text": [
            "{'father': 'Verd', 'mother': 'Kipkorir', 'son': 'Rutto', 'daughter': 'Yatich'}\n"
          ],
          "name": "stdout"
        }
      ]
    },
    {
      "cell_type": "code",
      "metadata": {
        "id": "tpBdeH5275i9",
        "colab": {
          "base_uri": "https://localhost:8080/"
        },
        "outputId": "14e7cc9b-bc35-426e-9709-ffa90f57d9a5"
      },
      "source": [
        "# Challenge 2\n",
        "# Create a dictionary name powers_dictionary using numbers 1-5 as keys \n",
        "# and their square power as values.  \n",
        "#\n",
        "powers={\n",
        "    1: 1**1,\n",
        "    2: 4**2, \n",
        "    3: 9**3,\n",
        "    4: 16**4,\n",
        "    5: 25**5\n",
        "}\n",
        "print(powers)"
      ],
      "execution_count": null,
      "outputs": [
        {
          "output_type": "stream",
          "text": [
            "{1: 1, 2: 16, 3: 729, 4: 65536, 5: 9765625}\n"
          ],
          "name": "stdout"
        }
      ]
    },
    {
      "cell_type": "code",
      "metadata": {
        "id": "yf9bGNKEKsFF",
        "colab": {
          "base_uri": "https://localhost:8080/"
        },
        "outputId": "35d4d4f8-a5dd-497a-cfc6-11d8f93991bc"
      },
      "source": [
        "# Challenge 3\n",
        "# A caterer offers three different food packages; \n",
        "# bronze package: starch:rice stew:chicken curry vegetable:cabbages desert:melon\n",
        "# silver package: starch:rice and chappati  stew:beef curry vegetable:spinach desert:melon and bananas\n",
        "# gold package: starch:rice, chappati and mukimo stew: beef curry vegetable:spinach and managu desert: tart\n",
        "# Create a dictionary that stores the above information then preview it\n",
        "# Hint: You can store a dictionary within a dictionary \n",
        "#\n",
        "\n",
        "\n",
        "bronze_package= {'starch':'rice', 'stew':'chicken curry', 'vegetable':'cabbages', 'desert':'melon'},\n",
        "silver_package={'starch':'rice and chappati','stew':'beef curry','vegetable':'spinach','desert':'melon and bananas'},\n",
        "gold_package ={'starch':'rice chappati and mukimo', 'stew': 'beef curry','vegetable':'spinach and managu', 'desert':'tart'},\n",
        "\n",
        "caterer = {\n",
        "'bronze_package': {'starch':'rice', 'stew':'chicken curry', 'vegetable':'cabbages', 'desert':'melon'},\n",
        "'silver_package': {'starch':'rice and chappati','stew':'beef curry','vegetable':'spinach','desert':'melon and bananas'},\n",
        "'gold_package':   {'starch':'rice chappati and mukimo', 'stew': 'beef curry','vegetable':'spinach and managu', 'desert':'tart'}\n",
        "}\n",
        "print(caterer)\n",
        "\n",
        "             "
      ],
      "execution_count": null,
      "outputs": [
        {
          "output_type": "stream",
          "text": [
            "{'bronze_package': {'starch': 'rice', 'stew': 'chicken curry', 'vegetable': 'cabbages', 'desert': 'melon'}, 'silver_package': {'starch': 'rice and chappati', 'stew': 'beef curry', 'vegetable': 'spinach', 'desert': 'melon and bananas'}, 'gold_package': {'starch': 'rice chappati and mukimo', 'stew': 'beef curry', 'vegetable': 'spinach and managu', 'desert': 'tart'}}\n"
          ],
          "name": "stdout"
        }
      ]
    },
    {
      "cell_type": "markdown",
      "metadata": {
        "id": "UU3YIJYI3gwc"
      },
      "source": [
        "## 1.2 Adding Elements to a Dictionary"
      ]
    },
    {
      "cell_type": "code",
      "metadata": {
        "id": "t-dKvalj7F44",
        "colab": {
          "base_uri": "https://localhost:8080/"
        },
        "outputId": "db10f42f-d966-420d-cc69-a99173fb556f"
      },
      "source": [
        "# Example 1 \n",
        "# Adding a residence to my_new_friend dictionary that we had initially created\n",
        "# \n",
        "my_new_friend['residence'] = 'Nairobi'  \n",
        "\n",
        "# print out my_new_friend\n",
        "print(my_new_friend)"
      ],
      "execution_count": null,
      "outputs": [
        {
          "output_type": "stream",
          "text": [
            "{'name': 'Femi', 'age': 24, 'residence': 'Nairobi'}\n"
          ],
          "name": "stdout"
        }
      ]
    },
    {
      "cell_type": "code",
      "metadata": {
        "id": "FsS9Ns-b7FnE",
        "colab": {
          "base_uri": "https://localhost:8080/"
        },
        "outputId": "032d3c91-0b47-46c7-83bd-a943655bb5f9"
      },
      "source": [
        "# Example 2\n",
        "# We now add color to our car dictionary\n",
        "#\n",
        "car[\"color\"] = \"light gray\"\n",
        "\n",
        "# and print out our dictionary\n",
        "print(car)"
      ],
      "execution_count": null,
      "outputs": [
        {
          "output_type": "stream",
          "text": [
            "{'brand': 'Toyota', 'model': 'Prado', 'year': 2007, 'color': 'light gray'}\n"
          ],
          "name": "stdout"
        }
      ]
    },
    {
      "cell_type": "code",
      "metadata": {
        "id": "GFY3EYiO7FcZ",
        "colab": {
          "base_uri": "https://localhost:8080/"
        },
        "outputId": "c0a8ff18-67f7-4d03-e261-9ffd4bdddddf"
      },
      "source": [
        "# Example 3\n",
        "# Adding the school to the dictionary\n",
        "#\n",
        "our_class['School'] = \"Moringa School\";\n",
        "\n",
        "# printing out our class to see the updates\n",
        "print(our_class)"
      ],
      "execution_count": null,
      "outputs": [
        {
          "output_type": "stream",
          "text": [
            "{'Name': '7 East', 'Students': 29, 'Wing': 'East', 'School': 'Moringa School'}\n"
          ],
          "name": "stdout"
        }
      ]
    },
    {
      "cell_type": "markdown",
      "metadata": {
        "id": "7tzKw6l87-5h"
      },
      "source": [
        "### 1.2 Challenges"
      ]
    },
    {
      "cell_type": "code",
      "metadata": {
        "id": "jqbEx0BU8EL4",
        "colab": {
          "base_uri": "https://localhost:8080/"
        },
        "outputId": "6b21e45b-6579-4aea-c412-cbbd5566303a"
      },
      "source": [
        "# Challenge 1: \n",
        "# Naivas Supermarket sells two products: bread and milk. \n",
        "# A loaf of bread weighs 400 grams. Each packet of milk is 0.5 litre. \n",
        "# Write a program that reads the number of bread \n",
        "# and the number of packets of milk in an order from the user. \n",
        "# Then your program should compute and display the total quantity of the order.\n",
        "# You should store the order in the dictionary and \n",
        "# prompt the user for another input.\n",
        "# \n",
        "\n",
        "bread= int(input('Number of Bread (400 grams) '))\n",
        "milk_pct= int(input('Number of Milk packet (0.5 L) '))\n",
        "order={\n",
        "    'Bread': bread,\n",
        "    'milk': milk_pct\n",
        "}\n",
        "print(order)\n",
        "order_qty= print('Total Quantity :' , bread+milk_pct)\n",
        "\n",
        "second_transaction=str(input('Update order (e.g yes/no)'))\n",
        "if second_transaction =='yes':\n",
        "  updateBread= bread= int(input('Number of Bread (grams) '))\n",
        "  updateMilk= int(input('Number of Milk packet (L) '))\n",
        "  \n",
        "  updateOrder={\n",
        "      'Bread':updateBread,\n",
        "      'milk':updateMilk\n",
        "  }\n",
        "  print(updateOrder)\n",
        "  update_order_qty= print('Total Quantity :' , updateBread+updateMilk)\n",
        "\n",
        "else:\n",
        "    print(order_qty)\n",
        "\n",
        "\n"
      ],
      "execution_count": null,
      "outputs": [
        {
          "output_type": "stream",
          "text": [
            "Number of Bread (400 grams) 45\n",
            "Number of Milk packet (0.5 L) 34\n",
            "{'Bread': 45, 'milk': 34}\n",
            "Total Quantity : 79\n",
            "Update order (e.g yes/no)yes\n",
            "Number of Bread (grams) 37\n",
            "Number of Milk packet (L) 27\n",
            "{'Bread': 37, 'milk': 27}\n",
            "Total Quantity : 64\n"
          ],
          "name": "stdout"
        }
      ]
    },
    {
      "cell_type": "code",
      "metadata": {
        "id": "gQTOkgy2kgLT",
        "colab": {
          "base_uri": "https://localhost:8080/"
        },
        "outputId": "5a9891c9-a794-42a7-da30-a8b4c2033319"
      },
      "source": [
        "# Challenge 2:\n",
        "# Two words are anagrams if they contain all of the same letters, \n",
        "# but in a different order. For example, “evil” and “live” \n",
        "# are anagrams because each contains one e, one i, one l, and one v. \n",
        "# Create a program that reads two strings from the user, determines\n",
        "# whether or not they are anagrams, stores and reports the result.\n",
        "# Use a dictionary to solve this problem.\n",
        "# \n",
        "\n",
        "firstWord=str(input('Enter first word:'))\n",
        "secondWord=str(input('Enter second word:'))\n",
        "anagram={\n",
        "    'first_word':firstWord,\n",
        "    'second_word':secondWord\n",
        "}\n",
        "print(anagram)\n",
        "if sorted(firstWord)==sorted(secondWord):\n",
        "  print(\"Word is Anagram\")\n",
        "else:\n",
        "  print(\"Not Anagram\")\n"
      ],
      "execution_count": null,
      "outputs": [
        {
          "output_type": "stream",
          "text": [
            "Enter first word:pea\n",
            "Enter second word:ape\n",
            "{'first_word': 'pea', 'second_word': 'ape'}\n",
            "Word is Anagram\n"
          ],
          "name": "stdout"
        }
      ]
    },
    {
      "cell_type": "code",
      "metadata": {
        "id": "3pcE1f56f87G",
        "colab": {
          "base_uri": "https://localhost:8080/"
        },
        "outputId": "193de134-7a51-4f9f-ef47-9163fb370e7b"
      },
      "source": [
        "# Challenge 3:\n",
        "# Create a program that determines and displays \n",
        "# the number of characters in a string entered by the user. \n",
        "# For example, \"Hello, World!\" has 13  characters while \n",
        "# abc has only three character. \n",
        "# Use a dictionary to solve this problem.\n",
        "# \n",
        "print('Please comment:')\n",
        "word=str(input())\n",
        "sentence= {\n",
        "    'first_word':word\n",
        "}\n",
        "print(sentence)\n",
        "if len(word)>0:\n",
        "  print(len(word))\n",
        "else:\n",
        "  print('No word')\n",
        "\n"
      ],
      "execution_count": null,
      "outputs": [
        {
          "output_type": "stream",
          "text": [
            "Please comment:\n",
            "good\n",
            "{'first_word': 'good'}\n",
            "4\n"
          ],
          "name": "stdout"
        }
      ]
    },
    {
      "cell_type": "markdown",
      "metadata": {
        "id": "hzmMe5TP32ra"
      },
      "source": [
        "## 1.3 Updating Elements in a Dictionary"
      ]
    },
    {
      "cell_type": "code",
      "metadata": {
        "id": "J66GyFzt7I_X",
        "colab": {
          "base_uri": "https://localhost:8080/"
        },
        "outputId": "8b2845d5-53a3-473b-b104-43f1739e2841"
      },
      "source": [
        "# Example 1\n",
        "# Let's update age on the dictionary my_new_friend \n",
        "#\n",
        "my_new_friend['age'] = 24\n",
        "\n",
        "# print out\n",
        "print(my_new_friend)"
      ],
      "execution_count": null,
      "outputs": [
        {
          "output_type": "stream",
          "text": [
            "{'name': 'Femi', 'age': 24, 'residence': 'Nairobi'}\n"
          ],
          "name": "stdout"
        }
      ]
    },
    {
      "cell_type": "code",
      "metadata": {
        "id": "zhJabm-I7Jr4",
        "colab": {
          "base_uri": "https://localhost:8080/"
        },
        "outputId": "de4a7d81-4140-4ddf-cb36-9f2e9075c746"
      },
      "source": [
        "# Example 2\n",
        "# Let's update our dictionary my_new_friend\n",
        "#\n",
        "car[\"color\"] = \"light gray\"\n",
        "\n",
        "# and print out our dictionary\n",
        "print(car)"
      ],
      "execution_count": null,
      "outputs": [
        {
          "output_type": "stream",
          "text": [
            "{'brand': 'Toyota', 'model': 'Prado', 'year': 2007, 'color': 'light gray'}\n"
          ],
          "name": "stdout"
        }
      ]
    },
    {
      "cell_type": "code",
      "metadata": {
        "id": "PbbAVPsO7JfJ",
        "colab": {
          "base_uri": "https://localhost:8080/"
        },
        "outputId": "21008d1b-2e42-4330-82bc-beb8c3920471"
      },
      "source": [
        "# Example 3\n",
        "# Updating our class \n",
        "#\n",
        "our_class['Students'] = 29;\n",
        "\n",
        "# printing out our class to see the updates\n",
        "print(our_class)"
      ],
      "execution_count": null,
      "outputs": [
        {
          "output_type": "stream",
          "text": [
            "{'Name': '7 East', 'Students': 29, 'Wing': 'East', 'School': 'Moringa School'}\n"
          ],
          "name": "stdout"
        }
      ]
    },
    {
      "cell_type": "markdown",
      "metadata": {
        "id": "Hp9Jaf8V8PE1"
      },
      "source": [
        "### 1.3 Challenges"
      ]
    },
    {
      "cell_type": "code",
      "metadata": {
        "id": "LcK4RI6K8Qrp",
        "colab": {
          "base_uri": "https://localhost:8080/"
        },
        "outputId": "a2ddf63c-9315-4d62-d549-3f40590f72f7"
      },
      "source": [
        "# Challenge 1\n",
        "# Let's update the value of the son and daughter keys of the family dictionary \n",
        "# that we had earlier on created\n",
        "#\n",
        "family.update(son='mwangi' , daughter='Hellen')\n",
        "print(family)"
      ],
      "execution_count": null,
      "outputs": [
        {
          "output_type": "stream",
          "text": [
            "{'father': 'Verd', 'mother': 'Kipkorir', 'son': 'mwangi', 'daughter': 'Hellen'}\n"
          ],
          "name": "stdout"
        }
      ]
    },
    {
      "cell_type": "code",
      "metadata": {
        "id": "EEU_gZax8RN6"
      },
      "source": [
        "# Challenge 2\n",
        "# Update value of the gold package in the caterer dictionary to \n",
        "# have vegetable as spinach, cabbage and managu\n",
        "#\n",
        "\n",
        "gold_package.Update(vegetable='spinach cabbage and managu')\n",
        "print(gold_package)\n",
        "\n"
      ],
      "execution_count": null,
      "outputs": []
    },
    {
      "cell_type": "code",
      "metadata": {
        "id": "jMEwHQI18RCX"
      },
      "source": [
        "# Challenge 3\n",
        "# Upon creating the Naivas supermarket dictionary program earlier on,\n",
        "# We will now extend the functionality of your program to be able to also update\n",
        "# the quantity of either the bread or packet of milk.\n",
        "# Write another program the will prompt the user to indicate whether they want\n",
        "# to update the quantity of the product or compute the total quantity of the total order.\n",
        "# Using if statements, your program should execute either to the code you had earlier\n",
        "# on written or to the new code for updating that you will now write\n",
        "#\n",
        "\n"
      ],
      "execution_count": null,
      "outputs": []
    },
    {
      "cell_type": "markdown",
      "metadata": {
        "id": "50S5D_qI3kDD"
      },
      "source": [
        "## 1.4 Accessing Elements from a Dictionary"
      ]
    },
    {
      "cell_type": "code",
      "metadata": {
        "id": "ZBJa2FHU7Muf",
        "colab": {
          "base_uri": "https://localhost:8080/"
        },
        "outputId": "98f49be6-cfca-42b6-9903-26b3ee236e8c"
      },
      "source": [
        "# Example 1\n",
        "# Accessing my_new_friend dictionary \n",
        "#\n",
        "name_a = my_new_friend[\"name\"]\n",
        "\n",
        "# print name_a\n",
        "print(name_a)\n",
        "\n",
        "# or we could also\n",
        "name_b = my_new_friend.get(\"name\")\n",
        "\n",
        "# print name_b\n",
        "print(name_b)"
      ],
      "execution_count": null,
      "outputs": [
        {
          "output_type": "stream",
          "text": [
            "Femi\n",
            "Femi\n"
          ],
          "name": "stdout"
        }
      ]
    },
    {
      "cell_type": "code",
      "metadata": {
        "id": "A8ggbH347NPz",
        "colab": {
          "base_uri": "https://localhost:8080/"
        },
        "outputId": "c94ee77d-7ddb-4074-977a-655af7220f73"
      },
      "source": [
        "# Example 2\n",
        "# Accessing the model in the car dictionary\n",
        "#\n",
        "car_a = car[\"model\"]\n",
        "\n",
        "# print car_a\n",
        "print(car_a)\n",
        "\n",
        "# or we could also\n",
        "car_b = car.get(\"model\")\n",
        "\n",
        "# print name_b\n",
        "print(car_b)"
      ],
      "execution_count": null,
      "outputs": [
        {
          "output_type": "stream",
          "text": [
            "Prado\n",
            "Prado\n"
          ],
          "name": "stdout"
        }
      ]
    },
    {
      "cell_type": "code",
      "metadata": {
        "id": "eaZxBKDf7NF4",
        "colab": {
          "base_uri": "https://localhost:8080/"
        },
        "outputId": "a493c7a1-1f8d-4499-cb01-2220b1ae8dd8"
      },
      "source": [
        "# Example 3\n",
        "# Accessing the name in our_class dictionary\n",
        "#\n",
        "our_class_a = our_class[\"Name\"]\n",
        "\n",
        "# or we could also\n",
        "our_class_b = our_class.get(\"Name\")\n",
        "\n",
        "# print our_class_b \n",
        "print(our_class_b)"
      ],
      "execution_count": null,
      "outputs": [
        {
          "output_type": "stream",
          "text": [
            "7 East\n"
          ],
          "name": "stdout"
        }
      ]
    },
    {
      "cell_type": "markdown",
      "metadata": {
        "id": "mqnSUp-a8I65"
      },
      "source": [
        "### 1.4 Challenges"
      ]
    },
    {
      "cell_type": "code",
      "metadata": {
        "id": "uE_DKh_N8XMj",
        "colab": {
          "base_uri": "https://localhost:8080/"
        },
        "outputId": "a4cd4aa2-9703-411e-9c80-22b24a280c74"
      },
      "source": [
        "# Challenge 1\n",
        "# What is the power of 4 from the powers_dictionary\n",
        "# \n",
        "powers_of_four=powers[4]\n",
        "print(powers_of_four)"
      ],
      "execution_count": null,
      "outputs": [
        {
          "output_type": "stream",
          "text": [
            "65536\n"
          ],
          "name": "stdout"
        }
      ]
    },
    {
      "cell_type": "code",
      "metadata": {
        "id": "dt-ZmzrQ8YIM",
        "colab": {
          "base_uri": "https://localhost:8080/"
        },
        "outputId": "c9df826b-36b8-43f3-8f8f-412cef51657f"
      },
      "source": [
        "# Challenge 2\n",
        "# Let's access the silver package from our caterer dictionary\n",
        "#\n",
        "silver_package_two= food_package['silver_package']\n",
        "print(silver_package_two)"
      ],
      "execution_count": null,
      "outputs": [
        {
          "output_type": "stream",
          "text": [
            "{'starch': 'rice and chappati', 'stew': 'beef curry', 'vegetable': 'spinach', 'desert': 'melon and bananas'}\n"
          ],
          "name": "stdout"
        }
      ]
    },
    {
      "cell_type": "code",
      "metadata": {
        "id": "xLEaTJdY8X4t",
        "colab": {
          "base_uri": "https://localhost:8080/"
        },
        "outputId": "5f167d31-e1d1-42b0-c697-2627ee8500f0"
      },
      "source": [
        "# Challenge 3\n",
        "# Access the name of the father from the family dictionary\n",
        "# \n",
        "family_a=family['father']\n",
        "print(family_a)\n"
      ],
      "execution_count": null,
      "outputs": [
        {
          "output_type": "stream",
          "text": [
            "Verd\n"
          ],
          "name": "stdout"
        }
      ]
    },
    {
      "cell_type": "markdown",
      "metadata": {
        "id": "Amb1Bsrbwx6C"
      },
      "source": [
        "## 1.5 Checking if a Key exists"
      ]
    },
    {
      "cell_type": "code",
      "metadata": {
        "id": "bcY3c6DHwwu2",
        "colab": {
          "base_uri": "https://localhost:8080/"
        },
        "outputId": "0829c8a9-82b1-4fd8-f699-00f65dbe1b78"
      },
      "source": [
        "# Example 1\n",
        "# We can check if a specified key exists within a dictionary through the use of the `in` keyword;\n",
        "# Let's check if the keyword residence exists in my_new_friend dictionary\n",
        "# \n",
        "if \"residence\" in my_new_friend:\n",
        "  print(\"Yes, the keyword exists in the dictionary\")\n",
        "else:\n",
        "  print('No, the keyword does not exist in the dictionary')"
      ],
      "execution_count": null,
      "outputs": [
        {
          "output_type": "stream",
          "text": [
            "Yes, the keyword exists in the dictionary\n"
          ],
          "name": "stdout"
        }
      ]
    },
    {
      "cell_type": "code",
      "metadata": {
        "id": "KJYTGPMKw52k",
        "colab": {
          "base_uri": "https://localhost:8080/"
        },
        "outputId": "19c553c9-87c6-41aa-dfff-367a66fd3872"
      },
      "source": [
        "# Example 2\n",
        "# Let's check if the keyword year exists in car dictionary\n",
        "#\n",
        "if \"year\" in car:\n",
        "  print(\"Yes, the keyword exists in the dictionary\")\n",
        "else:\n",
        "  print('No, the keyword does not exist in the dictionary')"
      ],
      "execution_count": null,
      "outputs": [
        {
          "output_type": "stream",
          "text": [
            "Yes, the keyword exists in the dictionary\n"
          ],
          "name": "stdout"
        }
      ]
    },
    {
      "cell_type": "code",
      "metadata": {
        "id": "U0sTioBMw5tU",
        "colab": {
          "base_uri": "https://localhost:8080/"
        },
        "outputId": "52aa486c-a99f-46f7-fa05-31dccc737f79"
      },
      "source": [
        "# Example 3\n",
        "# Checking if the keyword Wing exists in our_class dictionary\n",
        "#\n",
        "if \"Wing\" in our_class:\n",
        "  print(\"Yes, the keyword exists in the dictionary\")\n",
        "else:\n",
        "  print('No, the keyword does not exist in the dictionary')"
      ],
      "execution_count": null,
      "outputs": [
        {
          "output_type": "stream",
          "text": [
            "Yes, the keyword exists in the dictionary\n"
          ],
          "name": "stdout"
        }
      ]
    },
    {
      "cell_type": "markdown",
      "metadata": {
        "id": "1OFB5fL1w6TM"
      },
      "source": [
        "### 1.5 Challenges"
      ]
    },
    {
      "cell_type": "code",
      "metadata": {
        "id": "oUCqFuf_w--X",
        "colab": {
          "base_uri": "https://localhost:8080/"
        },
        "outputId": "69ff252a-300a-4ef5-fc59-dfd53315ce0f"
      },
      "source": [
        "# Challenge 1\n",
        "# Does the model key exist in our car dictionary?\n",
        "#\n",
        "\n",
        "if \"model\" in car:\n",
        "    print(\"Yes, the keyword exists in the dictionary\")\n",
        "else:\n",
        "  print('No, the keyword does not exist in the dictionary')\n"
      ],
      "execution_count": null,
      "outputs": [
        {
          "output_type": "stream",
          "text": [
            "Yes, the keyword exists in the dictionary\n"
          ],
          "name": "stdout"
        }
      ]
    },
    {
      "cell_type": "code",
      "metadata": {
        "id": "y2KKTbcmw_jK"
      },
      "source": [
        "# Challenge 2\n",
        "# Does te\n",
        "# Let's get the power of 6 from our already created powers dictionary\n",
        "#\n",
        "OUR "
      ],
      "execution_count": null,
      "outputs": []
    },
    {
      "cell_type": "code",
      "metadata": {
        "id": "bGck3KPGw_HE",
        "colab": {
          "base_uri": "https://localhost:8080/"
        },
        "outputId": "5fb0831c-6398-47b5-a4a1-76241a091c38"
      },
      "source": [
        "# Challenge 3\n",
        "# Let's find out if the diamond package exists in the caterer package\n",
        "#\n",
        "if \"diamond\" in food_package:\n",
        "    print(\"Yes, the keyword exists in the dictionary\")\n",
        "else:\n",
        "  print('No, the keyword does not exist in the dictionary')"
      ],
      "execution_count": null,
      "outputs": [
        {
          "output_type": "stream",
          "text": [
            "No, the keyword does not exist in the dictionary\n"
          ],
          "name": "stdout"
        }
      ]
    },
    {
      "cell_type": "markdown",
      "metadata": {
        "id": "GDrqXhcWzs6s"
      },
      "source": [
        "## 1.6 The No. of elements in a Dictionary"
      ]
    },
    {
      "cell_type": "code",
      "metadata": {
        "id": "mQMc9N3TzvUA",
        "colab": {
          "base_uri": "https://localhost:8080/"
        },
        "outputId": "47d22728-d02f-4cde-f1cd-9e3e41186cf5"
      },
      "source": [
        "# Example 1\n",
        "# We can use keyword `len()` to determine how many items (key - value pairs) there are in the dictionary.\n",
        "# Finding out how many items there are in the my_new_friend dictionary\n",
        "#\n",
        "print(len(my_new_friend))"
      ],
      "execution_count": null,
      "outputs": [
        {
          "output_type": "stream",
          "text": [
            "3\n"
          ],
          "name": "stdout"
        }
      ]
    },
    {
      "cell_type": "code",
      "metadata": {
        "id": "YJbVoIfzzvkC",
        "colab": {
          "base_uri": "https://localhost:8080/"
        },
        "outputId": "7f34453d-25f0-4171-8730-a96bc21f3e30"
      },
      "source": [
        "# Example 2\n",
        "# Finding out how many items there are in the car dictionary\n",
        "#\n",
        "print(len(car))"
      ],
      "execution_count": null,
      "outputs": [
        {
          "output_type": "stream",
          "text": [
            "4\n"
          ],
          "name": "stdout"
        }
      ]
    },
    {
      "cell_type": "code",
      "metadata": {
        "id": "ubNhcSttz050",
        "colab": {
          "base_uri": "https://localhost:8080/"
        },
        "outputId": "6ded5b8d-83f5-48f3-9e4a-70b9e4bbe90d"
      },
      "source": [
        "# Example 3\n",
        "# Finding out how many items there are in the our_class dictionary\n",
        "#\n",
        "print(len(our_class))"
      ],
      "execution_count": null,
      "outputs": [
        {
          "output_type": "stream",
          "text": [
            "4\n"
          ],
          "name": "stdout"
        }
      ]
    },
    {
      "cell_type": "markdown",
      "metadata": {
        "id": "zN0YcqMmzwGU"
      },
      "source": [
        "### 1.6 Challenges"
      ]
    },
    {
      "cell_type": "code",
      "metadata": {
        "id": "9SWkSQvnz2bh",
        "colab": {
          "base_uri": "https://localhost:8080/"
        },
        "outputId": "59c0c54d-7ac6-4dfb-b3ca-79bfa6af89e9"
      },
      "source": [
        "# Challenge 1\n",
        "# Using the family dictionary, let's determine how many family members there are in the family?\n",
        "#\n",
        "print(len(family))\n"
      ],
      "execution_count": null,
      "outputs": [
        {
          "output_type": "stream",
          "text": [
            "4\n"
          ],
          "name": "stdout"
        }
      ]
    },
    {
      "cell_type": "code",
      "metadata": {
        "id": "GKXla2_Qz2Lx",
        "colab": {
          "base_uri": "https://localhost:8080/"
        },
        "outputId": "2dcd24dd-4c13-4a76-8543-c42480d29f39"
      },
      "source": [
        "# Challenge 2\n",
        "# How many items have we stored in our anagrams dictionary?\n",
        "# \n",
        "\n",
        "print(len(anagram))"
      ],
      "execution_count": null,
      "outputs": [
        {
          "output_type": "stream",
          "text": [
            "2\n"
          ],
          "name": "stdout"
        }
      ]
    },
    {
      "cell_type": "code",
      "metadata": {
        "id": "y1Yc0df-z2AG",
        "colab": {
          "base_uri": "https://localhost:8080/"
        },
        "outputId": "124517a3-3c90-40a7-e57c-1d7585b71178"
      },
      "source": [
        "# Challange 3\n",
        "# Using the cater dictionary, how many meals do we have in our gold package? \n",
        "# \n",
        "\n",
        "print(len(gold_package))\n"
      ],
      "execution_count": null,
      "outputs": [
        {
          "output_type": "stream",
          "text": [
            "1\n"
          ],
          "name": "stdout"
        }
      ]
    },
    {
      "cell_type": "markdown",
      "metadata": {
        "id": "t3HfcEjn306L"
      },
      "source": [
        "## 1.7 Removing Elements from a Dictionary"
      ]
    },
    {
      "cell_type": "code",
      "metadata": {
        "id": "g9zlKoiL7PaV"
      },
      "source": [
        "# Example 1\n",
        "# We can remove a specific item from the dictionary \n",
        "# with the specified key name using the pop() method. \n",
        "# The clear() method clears the items in the dictionary \n",
        "# while the del keyword deletes the dictionary completely.\n",
        "\n",
        "\n",
        "# Removing age from my_new_friend dictionary\n",
        "updated_my_new_friend = my_new_friend.pop('age')\n",
        "\n",
        "# printing out the updated dictionary\n",
        "print(updated_my_new_friend)\n",
        "\n",
        "# now clearing the dictionary \n",
        "updated_my_new_friend.clear()\n",
        "\n",
        "\n",
        "# printing out the cleared dictionary\n",
        "print(updated_my_new_friend)\n",
        "\n",
        "# deleting the dictionary completely\n",
        "del updated_my_new_friend"
      ],
      "execution_count": null,
      "outputs": []
    },
    {
      "cell_type": "code",
      "metadata": {
        "id": "JAKiQ6y97PMq"
      },
      "source": [
        "# Example 2\n",
        "# Removing model from car dictionary\n",
        "\n",
        "# using the pop method\n",
        "updated_car = car.pop(\"model\")\n",
        "\n",
        "# printing out the updated car dictionary\n",
        "print(updated_car)\n",
        "\n",
        "# now clearing the dictionary \n",
        "updated_car.clear()\n",
        "\n",
        "# printing out the cleared dictionary\n",
        "print(updated_car)\n",
        "\n",
        "# deleting the dictionary completely\n",
        "del updated_car"
      ],
      "execution_count": null,
      "outputs": []
    },
    {
      "cell_type": "code",
      "metadata": {
        "id": "hJDrF-_i7OzG"
      },
      "source": [
        "# Example 3\n",
        "# Removing School from our_class dictionary\n",
        "\n",
        "# using the pop method\n",
        "our_class.pop(\"School\")\n",
        "\n",
        "# printing out the updated our_class dictionary\n",
        "print(our_class)\n",
        "\n",
        "# now clearing the dictionary \n",
        "our_class.clear()\n",
        "\n",
        "# printing out the cleared dictionary\n",
        "print(our_class)\n",
        "\n",
        "# deleting the dictionary completely\n",
        "del our_class"
      ],
      "execution_count": null,
      "outputs": []
    },
    {
      "cell_type": "markdown",
      "metadata": {
        "id": "ZSQ6Uyb98jUU"
      },
      "source": [
        "### Challenges 1.7"
      ]
    },
    {
      "cell_type": "code",
      "metadata": {
        "id": "SJv-VzAa8liR"
      },
      "source": [
        "# Challenge 1\n",
        "# Let's delete our family dictionary\n",
        "#\n",
        "del family_a"
      ],
      "execution_count": null,
      "outputs": []
    },
    {
      "cell_type": "code",
      "metadata": {
        "id": "RtPPDlUg8mdN",
        "colab": {
          "base_uri": "https://localhost:8080/"
        },
        "outputId": "c1c73680-f451-48b9-f316-d9ec26b39940"
      },
      "source": [
        "# Challenge 2\n",
        "# Let's clear our anagrams dictionary\n",
        "#\n",
        "anagram.clear()\n",
        "print(anagram)"
      ],
      "execution_count": null,
      "outputs": [
        {
          "output_type": "stream",
          "text": [
            "{}\n"
          ],
          "name": "stdout"
        }
      ]
    },
    {
      "cell_type": "code",
      "metadata": {
        "id": "de_1tLbS8mNr"
      },
      "source": [
        "# Challenge 3\n",
        "# Let's add another fuctionality to our Naivas Supermarket program\n",
        "# The program will be updated to request the user to whether to delete \n",
        "# any product. If so, the user should perform the deletion respectively.\n",
        "#\n",
        "\n"
      ],
      "execution_count": null,
      "outputs": []
    }
  ]
}