{
  "nbformat": 4,
  "nbformat_minor": 0,
  "metadata": {
    "colab": {
      "name": "Mon-Prep-Wk2-Mall-Customer-Segmentation.ipynb",
      "provenance": [],
      "toc_visible": true
    },
    "kernelspec": {
      "name": "python3",
      "display_name": "Python 3"
    },
    "language_info": {
      "name": "python"
    }
  },
  "cells": [
    {
      "cell_type": "markdown",
      "metadata": {
        "id": "qdM3XKMbx7tB"
      },
      "source": [
        "**MALL CUSTOMER SEGMENTATION**\n",
        "\n",
        "\n",
        "Customer segmentation is the practice of partitioning a customer base into groups of individuals that have similar characteristics.\n",
        "\n",
        "It is an essential strategy as the owner of Naivas Supermarket can target these specific groups of customers and effectively allocate marketing resources. Case in point, one group might contain customers who are high-profit and low-risk, that is, more likely to purchase products or subscribe for a service; another group might include customers from non-profit organizations. A business task is to retain those customers.\n",
        "\n",
        "**Problem**\n",
        "\n",
        "As the owner of Naivas Supermarket, you want to understand the customers who can easily converge [Target Customers]. The insights from the data will then be reported to the marketing team, who will later plan a strategy accordingly.\n",
        "\n",
        "**Context**\n",
        "\n",
        "Through loyalty cards, you have some basic data about your customers like Customer ID, age, gender, annual income, and spending score. Spending Score is something you assign to the customer based on your defined parameters like customer behavior and purchasing .\n",
        "\n",
        "**Motivation**\n",
        "\n",
        "The main objective of this project is to learn the purpose of market basket analysis. Also try to learn the customers purchasing behavior so as to group them according to their preferences.later on this information is handed over to the marketing team.\n",
        "\n",
        "Data information\n",
        "\n",
        "There is one dataset called Mall_Customers. It consists of the following attributes:\n",
        "CustomerID; a primary key which uniquely identifies a customer in a table.\n",
        "Gender; an attribute showing the Gender of  a customer. A customer can either be a male (m) or a female (f)\n",
        "Age; Age of the customer.\n",
        "Annual Income(k%)\n",
        "Spending_Score(1-100); Score assigned by the  mall based on customer behavior and spending.\n",
        "\n",
        "In this particular dataset there are 210 samples to study.\n"
      ]
    },
    {
      "cell_type": "markdown",
      "metadata": {
        "id": "DKZ4xkdv4epk"
      },
      "source": [
        "**Load Data From a Mall Customer CSV File**"
      ]
    },
    {
      "cell_type": "code",
      "metadata": {
        "colab": {
          "base_uri": "https://localhost:8080/",
          "height": 35
        },
        "id": "MCPVuXK9z7K6",
        "outputId": "3b2db4ce-1805-46f2-81e8-fd2e6bceb7d1"
      },
      "source": [
        "# Load data from a mall customer csv file\n",
        "\n",
        "%load_ext sql\n",
        "\n",
        "# Then connect to our in memory sqlite database\n",
        "# NB: This database will cease to exist as soon as the database connection is closed.\n",
        "%sql sqlite://"
      ],
      "execution_count": null,
      "outputs": [
        {
          "output_type": "execute_result",
          "data": {
            "application/vnd.google.colaboratory.intrinsic+json": {
              "type": "string"
            },
            "text/plain": [
              "'Connected: @None'"
            ]
          },
          "metadata": {
            "tags": []
          },
          "execution_count": 1
        }
      ]
    },
    {
      "cell_type": "markdown",
      "metadata": {
        "id": "s5S6fm8f41b_"
      },
      "source": [
        "**Dependencies**\n",
        "\n",
        "At this stage we  import libraries that we rely on so as to develop a solution for this problem.\n",
        "Some of these libraries are :\n",
        "NumPy / pandas; assist us to treat and explore the data, and execute vector and matrix operations.\n",
        "\n",
        "matplotlib / seaborn; a tool that will help to plot the information so we can visualize it in various ways and have a better understanding of it.\n",
        "\n",
        "Plotly; assist us in plotting data in a fancy way.\n",
        "\n",
        "sklearn; Will provide all necessary tools to train our models and test them afterwards."
      ]
    },
    {
      "cell_type": "code",
      "metadata": {
        "id": "XGTrEdc96B5Q"
      },
      "source": [
        "#Dependencies\n",
        "#import python libraries\n",
        "import csv\n",
        "import numpy as np\n",
        "import pandas as pd\n",
        "import matplotlib.pyplot as plt\n",
        "import seaborn as sns\n",
        "import plotly as py\n",
        "import plotly.graph_objs as go\n",
        "from sklearn.cluster import KMeans\n",
        "import warnings\n",
        "warnings.filterwarnings(\"ignore\")"
      ],
      "execution_count": null,
      "outputs": []
    },
    {
      "cell_type": "code",
      "metadata": {
        "colab": {
          "base_uri": "https://localhost:8080/",
          "height": 120
        },
        "id": "_-IKoNuc66H1",
        "outputId": "3eb282b1-eb01-457d-d0f7-bda23b6ea42f"
      },
      "source": [
        "# Loading the  table from a local CSV file\n",
        "# Read the CSV\n",
        "\n",
        "with open('Mall_Customers.csv','r') as f:\n",
        "    df = pd.read_csv(f, index_col=0, encoding='utf-8') \n",
        "\n",
        "# Then storing it in an SQL table of our in memory sqlite database\n",
        "\n",
        "%sql DROP TABLE df;\n",
        "%sql PERSIST df;"
      ],
      "execution_count": null,
      "outputs": [
        {
          "output_type": "stream",
          "text": [
            " * sqlite://\n",
            "(sqlite3.OperationalError) no such table: df\n",
            "[SQL: DROP TABLE df;]\n",
            "(Background on this error at: http://sqlalche.me/e/14/e3q8)\n",
            " * sqlite://\n"
          ],
          "name": "stdout"
        },
        {
          "output_type": "execute_result",
          "data": {
            "application/vnd.google.colaboratory.intrinsic+json": {
              "type": "string"
            },
            "text/plain": [
              "'Persisted df'"
            ]
          },
          "metadata": {
            "tags": []
          },
          "execution_count": 9
        }
      ]
    },
    {
      "cell_type": "markdown",
      "metadata": {
        "id": "z_dc3ddT7HpU"
      },
      "source": [
        "Below is a snippet of the 80 rows of the data frame showcasing the different features of a customerID, Gender, Age, Annual income, spending score etc"
      ]
    },
    {
      "cell_type": "code",
      "metadata": {
        "colab": {
          "base_uri": "https://localhost:8080/",
          "height": 1000
        },
        "id": "kfbJQlc67SnK",
        "outputId": "24b7f407-7ff3-45cd-e8a1-b6ee33b7a7ac"
      },
      "source": [
        "# Display the loaded csv file on the console\n",
        "%%sql\n",
        "SELECT * FROM df"
      ],
      "execution_count": null,
      "outputs": [
        {
          "output_type": "stream",
          "text": [
            " * sqlite://\n",
            "Done.\n"
          ],
          "name": "stdout"
        },
        {
          "output_type": "execute_result",
          "data": {
            "text/html": [
              "<table>\n",
              "    <thead>\n",
              "        <tr>\n",
              "            <th>CustomerID</th>\n",
              "            <th>Gender</th>\n",
              "            <th>Age</th>\n",
              "            <th>Annual Income (k$)</th>\n",
              "            <th>Spending Score (1-100)</th>\n",
              "        </tr>\n",
              "    </thead>\n",
              "    <tbody>\n",
              "        <tr>\n",
              "            <td>1</td>\n",
              "            <td>Male</td>\n",
              "            <td>19</td>\n",
              "            <td>15</td>\n",
              "            <td>39</td>\n",
              "        </tr>\n",
              "        <tr>\n",
              "            <td>2</td>\n",
              "            <td>Male</td>\n",
              "            <td>21</td>\n",
              "            <td>15</td>\n",
              "            <td>81</td>\n",
              "        </tr>\n",
              "        <tr>\n",
              "            <td>3</td>\n",
              "            <td>Female</td>\n",
              "            <td>20</td>\n",
              "            <td>16</td>\n",
              "            <td>6</td>\n",
              "        </tr>\n",
              "        <tr>\n",
              "            <td>4</td>\n",
              "            <td>Female</td>\n",
              "            <td>23</td>\n",
              "            <td>16</td>\n",
              "            <td>77</td>\n",
              "        </tr>\n",
              "        <tr>\n",
              "            <td>5</td>\n",
              "            <td>Female</td>\n",
              "            <td>31</td>\n",
              "            <td>17</td>\n",
              "            <td>40</td>\n",
              "        </tr>\n",
              "        <tr>\n",
              "            <td>6</td>\n",
              "            <td>Female</td>\n",
              "            <td>22</td>\n",
              "            <td>17</td>\n",
              "            <td>76</td>\n",
              "        </tr>\n",
              "        <tr>\n",
              "            <td>7</td>\n",
              "            <td>Female</td>\n",
              "            <td>35</td>\n",
              "            <td>18</td>\n",
              "            <td>6</td>\n",
              "        </tr>\n",
              "        <tr>\n",
              "            <td>8</td>\n",
              "            <td>Female</td>\n",
              "            <td>23</td>\n",
              "            <td>18</td>\n",
              "            <td>94</td>\n",
              "        </tr>\n",
              "        <tr>\n",
              "            <td>9</td>\n",
              "            <td>Male</td>\n",
              "            <td>64</td>\n",
              "            <td>19</td>\n",
              "            <td>3</td>\n",
              "        </tr>\n",
              "        <tr>\n",
              "            <td>10</td>\n",
              "            <td>Female</td>\n",
              "            <td>30</td>\n",
              "            <td>19</td>\n",
              "            <td>72</td>\n",
              "        </tr>\n",
              "        <tr>\n",
              "            <td>11</td>\n",
              "            <td>Male</td>\n",
              "            <td>67</td>\n",
              "            <td>19</td>\n",
              "            <td>14</td>\n",
              "        </tr>\n",
              "        <tr>\n",
              "            <td>12</td>\n",
              "            <td>Female</td>\n",
              "            <td>35</td>\n",
              "            <td>19</td>\n",
              "            <td>99</td>\n",
              "        </tr>\n",
              "        <tr>\n",
              "            <td>13</td>\n",
              "            <td>Female</td>\n",
              "            <td>58</td>\n",
              "            <td>20</td>\n",
              "            <td>15</td>\n",
              "        </tr>\n",
              "        <tr>\n",
              "            <td>14</td>\n",
              "            <td>Female</td>\n",
              "            <td>24</td>\n",
              "            <td>20</td>\n",
              "            <td>77</td>\n",
              "        </tr>\n",
              "        <tr>\n",
              "            <td>15</td>\n",
              "            <td>Male</td>\n",
              "            <td>37</td>\n",
              "            <td>20</td>\n",
              "            <td>13</td>\n",
              "        </tr>\n",
              "        <tr>\n",
              "            <td>16</td>\n",
              "            <td>Male</td>\n",
              "            <td>22</td>\n",
              "            <td>20</td>\n",
              "            <td>79</td>\n",
              "        </tr>\n",
              "        <tr>\n",
              "            <td>17</td>\n",
              "            <td>Female</td>\n",
              "            <td>35</td>\n",
              "            <td>21</td>\n",
              "            <td>35</td>\n",
              "        </tr>\n",
              "        <tr>\n",
              "            <td>18</td>\n",
              "            <td>Male</td>\n",
              "            <td>20</td>\n",
              "            <td>21</td>\n",
              "            <td>66</td>\n",
              "        </tr>\n",
              "        <tr>\n",
              "            <td>19</td>\n",
              "            <td>Male</td>\n",
              "            <td>52</td>\n",
              "            <td>23</td>\n",
              "            <td>29</td>\n",
              "        </tr>\n",
              "        <tr>\n",
              "            <td>20</td>\n",
              "            <td>Female</td>\n",
              "            <td>35</td>\n",
              "            <td>23</td>\n",
              "            <td>98</td>\n",
              "        </tr>\n",
              "        <tr>\n",
              "            <td>21</td>\n",
              "            <td>Male</td>\n",
              "            <td>35</td>\n",
              "            <td>24</td>\n",
              "            <td>35</td>\n",
              "        </tr>\n",
              "        <tr>\n",
              "            <td>22</td>\n",
              "            <td>Male</td>\n",
              "            <td>25</td>\n",
              "            <td>24</td>\n",
              "            <td>73</td>\n",
              "        </tr>\n",
              "        <tr>\n",
              "            <td>23</td>\n",
              "            <td>Female</td>\n",
              "            <td>46</td>\n",
              "            <td>25</td>\n",
              "            <td>5</td>\n",
              "        </tr>\n",
              "        <tr>\n",
              "            <td>24</td>\n",
              "            <td>Male</td>\n",
              "            <td>31</td>\n",
              "            <td>25</td>\n",
              "            <td>73</td>\n",
              "        </tr>\n",
              "        <tr>\n",
              "            <td>25</td>\n",
              "            <td>Female</td>\n",
              "            <td>54</td>\n",
              "            <td>28</td>\n",
              "            <td>14</td>\n",
              "        </tr>\n",
              "        <tr>\n",
              "            <td>26</td>\n",
              "            <td>Male</td>\n",
              "            <td>29</td>\n",
              "            <td>28</td>\n",
              "            <td>82</td>\n",
              "        </tr>\n",
              "        <tr>\n",
              "            <td>27</td>\n",
              "            <td>Female</td>\n",
              "            <td>45</td>\n",
              "            <td>28</td>\n",
              "            <td>32</td>\n",
              "        </tr>\n",
              "        <tr>\n",
              "            <td>28</td>\n",
              "            <td>Male</td>\n",
              "            <td>35</td>\n",
              "            <td>28</td>\n",
              "            <td>61</td>\n",
              "        </tr>\n",
              "        <tr>\n",
              "            <td>29</td>\n",
              "            <td>Female</td>\n",
              "            <td>40</td>\n",
              "            <td>29</td>\n",
              "            <td>31</td>\n",
              "        </tr>\n",
              "        <tr>\n",
              "            <td>30</td>\n",
              "            <td>Female</td>\n",
              "            <td>23</td>\n",
              "            <td>29</td>\n",
              "            <td>87</td>\n",
              "        </tr>\n",
              "        <tr>\n",
              "            <td>31</td>\n",
              "            <td>Male</td>\n",
              "            <td>60</td>\n",
              "            <td>30</td>\n",
              "            <td>4</td>\n",
              "        </tr>\n",
              "        <tr>\n",
              "            <td>32</td>\n",
              "            <td>Female</td>\n",
              "            <td>21</td>\n",
              "            <td>30</td>\n",
              "            <td>73</td>\n",
              "        </tr>\n",
              "        <tr>\n",
              "            <td>33</td>\n",
              "            <td>Male</td>\n",
              "            <td>53</td>\n",
              "            <td>33</td>\n",
              "            <td>4</td>\n",
              "        </tr>\n",
              "        <tr>\n",
              "            <td>34</td>\n",
              "            <td>Male</td>\n",
              "            <td>18</td>\n",
              "            <td>33</td>\n",
              "            <td>92</td>\n",
              "        </tr>\n",
              "        <tr>\n",
              "            <td>35</td>\n",
              "            <td>Female</td>\n",
              "            <td>49</td>\n",
              "            <td>33</td>\n",
              "            <td>14</td>\n",
              "        </tr>\n",
              "        <tr>\n",
              "            <td>36</td>\n",
              "            <td>Female</td>\n",
              "            <td>21</td>\n",
              "            <td>33</td>\n",
              "            <td>81</td>\n",
              "        </tr>\n",
              "        <tr>\n",
              "            <td>37</td>\n",
              "            <td>Female</td>\n",
              "            <td>42</td>\n",
              "            <td>34</td>\n",
              "            <td>17</td>\n",
              "        </tr>\n",
              "        <tr>\n",
              "            <td>38</td>\n",
              "            <td>Female</td>\n",
              "            <td>30</td>\n",
              "            <td>34</td>\n",
              "            <td>73</td>\n",
              "        </tr>\n",
              "        <tr>\n",
              "            <td>39</td>\n",
              "            <td>Female</td>\n",
              "            <td>36</td>\n",
              "            <td>37</td>\n",
              "            <td>26</td>\n",
              "        </tr>\n",
              "        <tr>\n",
              "            <td>40</td>\n",
              "            <td>Female</td>\n",
              "            <td>20</td>\n",
              "            <td>37</td>\n",
              "            <td>75</td>\n",
              "        </tr>\n",
              "        <tr>\n",
              "            <td>41</td>\n",
              "            <td>Female</td>\n",
              "            <td>65</td>\n",
              "            <td>38</td>\n",
              "            <td>35</td>\n",
              "        </tr>\n",
              "        <tr>\n",
              "            <td>42</td>\n",
              "            <td>Male</td>\n",
              "            <td>24</td>\n",
              "            <td>38</td>\n",
              "            <td>92</td>\n",
              "        </tr>\n",
              "        <tr>\n",
              "            <td>43</td>\n",
              "            <td>Male</td>\n",
              "            <td>48</td>\n",
              "            <td>39</td>\n",
              "            <td>36</td>\n",
              "        </tr>\n",
              "        <tr>\n",
              "            <td>44</td>\n",
              "            <td>Female</td>\n",
              "            <td>31</td>\n",
              "            <td>39</td>\n",
              "            <td>61</td>\n",
              "        </tr>\n",
              "        <tr>\n",
              "            <td>45</td>\n",
              "            <td>Female</td>\n",
              "            <td>49</td>\n",
              "            <td>39</td>\n",
              "            <td>28</td>\n",
              "        </tr>\n",
              "        <tr>\n",
              "            <td>46</td>\n",
              "            <td>Female</td>\n",
              "            <td>24</td>\n",
              "            <td>39</td>\n",
              "            <td>65</td>\n",
              "        </tr>\n",
              "        <tr>\n",
              "            <td>47</td>\n",
              "            <td>Female</td>\n",
              "            <td>50</td>\n",
              "            <td>40</td>\n",
              "            <td>55</td>\n",
              "        </tr>\n",
              "        <tr>\n",
              "            <td>48</td>\n",
              "            <td>Female</td>\n",
              "            <td>27</td>\n",
              "            <td>40</td>\n",
              "            <td>47</td>\n",
              "        </tr>\n",
              "        <tr>\n",
              "            <td>49</td>\n",
              "            <td>Female</td>\n",
              "            <td>29</td>\n",
              "            <td>40</td>\n",
              "            <td>42</td>\n",
              "        </tr>\n",
              "        <tr>\n",
              "            <td>50</td>\n",
              "            <td>Female</td>\n",
              "            <td>31</td>\n",
              "            <td>40</td>\n",
              "            <td>42</td>\n",
              "        </tr>\n",
              "        <tr>\n",
              "            <td>51</td>\n",
              "            <td>Female</td>\n",
              "            <td>49</td>\n",
              "            <td>42</td>\n",
              "            <td>52</td>\n",
              "        </tr>\n",
              "        <tr>\n",
              "            <td>52</td>\n",
              "            <td>Male</td>\n",
              "            <td>33</td>\n",
              "            <td>42</td>\n",
              "            <td>60</td>\n",
              "        </tr>\n",
              "        <tr>\n",
              "            <td>53</td>\n",
              "            <td>Female</td>\n",
              "            <td>31</td>\n",
              "            <td>43</td>\n",
              "            <td>54</td>\n",
              "        </tr>\n",
              "        <tr>\n",
              "            <td>54</td>\n",
              "            <td>Male</td>\n",
              "            <td>59</td>\n",
              "            <td>43</td>\n",
              "            <td>60</td>\n",
              "        </tr>\n",
              "        <tr>\n",
              "            <td>55</td>\n",
              "            <td>Female</td>\n",
              "            <td>50</td>\n",
              "            <td>43</td>\n",
              "            <td>45</td>\n",
              "        </tr>\n",
              "        <tr>\n",
              "            <td>56</td>\n",
              "            <td>Male</td>\n",
              "            <td>47</td>\n",
              "            <td>43</td>\n",
              "            <td>41</td>\n",
              "        </tr>\n",
              "        <tr>\n",
              "            <td>57</td>\n",
              "            <td>Female</td>\n",
              "            <td>51</td>\n",
              "            <td>44</td>\n",
              "            <td>50</td>\n",
              "        </tr>\n",
              "        <tr>\n",
              "            <td>58</td>\n",
              "            <td>Male</td>\n",
              "            <td>69</td>\n",
              "            <td>44</td>\n",
              "            <td>46</td>\n",
              "        </tr>\n",
              "        <tr>\n",
              "            <td>59</td>\n",
              "            <td>Female</td>\n",
              "            <td>27</td>\n",
              "            <td>46</td>\n",
              "            <td>51</td>\n",
              "        </tr>\n",
              "        <tr>\n",
              "            <td>60</td>\n",
              "            <td>Male</td>\n",
              "            <td>53</td>\n",
              "            <td>46</td>\n",
              "            <td>46</td>\n",
              "        </tr>\n",
              "        <tr>\n",
              "            <td>61</td>\n",
              "            <td>Male</td>\n",
              "            <td>70</td>\n",
              "            <td>46</td>\n",
              "            <td>56</td>\n",
              "        </tr>\n",
              "        <tr>\n",
              "            <td>62</td>\n",
              "            <td>Male</td>\n",
              "            <td>19</td>\n",
              "            <td>46</td>\n",
              "            <td>55</td>\n",
              "        </tr>\n",
              "        <tr>\n",
              "            <td>63</td>\n",
              "            <td>Female</td>\n",
              "            <td>67</td>\n",
              "            <td>47</td>\n",
              "            <td>52</td>\n",
              "        </tr>\n",
              "        <tr>\n",
              "            <td>64</td>\n",
              "            <td>Female</td>\n",
              "            <td>54</td>\n",
              "            <td>47</td>\n",
              "            <td>59</td>\n",
              "        </tr>\n",
              "        <tr>\n",
              "            <td>65</td>\n",
              "            <td>Male</td>\n",
              "            <td>63</td>\n",
              "            <td>48</td>\n",
              "            <td>51</td>\n",
              "        </tr>\n",
              "        <tr>\n",
              "            <td>66</td>\n",
              "            <td>Male</td>\n",
              "            <td>18</td>\n",
              "            <td>48</td>\n",
              "            <td>59</td>\n",
              "        </tr>\n",
              "        <tr>\n",
              "            <td>67</td>\n",
              "            <td>Female</td>\n",
              "            <td>43</td>\n",
              "            <td>48</td>\n",
              "            <td>50</td>\n",
              "        </tr>\n",
              "        <tr>\n",
              "            <td>68</td>\n",
              "            <td>Female</td>\n",
              "            <td>68</td>\n",
              "            <td>48</td>\n",
              "            <td>48</td>\n",
              "        </tr>\n",
              "        <tr>\n",
              "            <td>69</td>\n",
              "            <td>Male</td>\n",
              "            <td>19</td>\n",
              "            <td>48</td>\n",
              "            <td>59</td>\n",
              "        </tr>\n",
              "        <tr>\n",
              "            <td>70</td>\n",
              "            <td>Female</td>\n",
              "            <td>32</td>\n",
              "            <td>48</td>\n",
              "            <td>47</td>\n",
              "        </tr>\n",
              "        <tr>\n",
              "            <td>71</td>\n",
              "            <td>Male</td>\n",
              "            <td>70</td>\n",
              "            <td>49</td>\n",
              "            <td>55</td>\n",
              "        </tr>\n",
              "        <tr>\n",
              "            <td>72</td>\n",
              "            <td>Female</td>\n",
              "            <td>47</td>\n",
              "            <td>49</td>\n",
              "            <td>42</td>\n",
              "        </tr>\n",
              "        <tr>\n",
              "            <td>73</td>\n",
              "            <td>Female</td>\n",
              "            <td>60</td>\n",
              "            <td>50</td>\n",
              "            <td>49</td>\n",
              "        </tr>\n",
              "        <tr>\n",
              "            <td>74</td>\n",
              "            <td>Female</td>\n",
              "            <td>60</td>\n",
              "            <td>50</td>\n",
              "            <td>56</td>\n",
              "        </tr>\n",
              "        <tr>\n",
              "            <td>75</td>\n",
              "            <td>Male</td>\n",
              "            <td>59</td>\n",
              "            <td>54</td>\n",
              "            <td>47</td>\n",
              "        </tr>\n",
              "        <tr>\n",
              "            <td>76</td>\n",
              "            <td>Male</td>\n",
              "            <td>26</td>\n",
              "            <td>54</td>\n",
              "            <td>54</td>\n",
              "        </tr>\n",
              "        <tr>\n",
              "            <td>77</td>\n",
              "            <td>Female</td>\n",
              "            <td>45</td>\n",
              "            <td>54</td>\n",
              "            <td>53</td>\n",
              "        </tr>\n",
              "        <tr>\n",
              "            <td>78</td>\n",
              "            <td>Male</td>\n",
              "            <td>40</td>\n",
              "            <td>54</td>\n",
              "            <td>48</td>\n",
              "        </tr>\n",
              "        <tr>\n",
              "            <td>79</td>\n",
              "            <td>Female</td>\n",
              "            <td>23</td>\n",
              "            <td>54</td>\n",
              "            <td>52</td>\n",
              "        </tr>\n",
              "        <tr>\n",
              "            <td>80</td>\n",
              "            <td>Female</td>\n",
              "            <td>49</td>\n",
              "            <td>54</td>\n",
              "            <td>42</td>\n",
              "        </tr>\n",
              "        <tr>\n",
              "            <td>81</td>\n",
              "            <td>Male</td>\n",
              "            <td>57</td>\n",
              "            <td>54</td>\n",
              "            <td>51</td>\n",
              "        </tr>\n",
              "        <tr>\n",
              "            <td>82</td>\n",
              "            <td>Male</td>\n",
              "            <td>38</td>\n",
              "            <td>54</td>\n",
              "            <td>55</td>\n",
              "        </tr>\n",
              "        <tr>\n",
              "            <td>83</td>\n",
              "            <td>Male</td>\n",
              "            <td>67</td>\n",
              "            <td>54</td>\n",
              "            <td>41</td>\n",
              "        </tr>\n",
              "        <tr>\n",
              "            <td>84</td>\n",
              "            <td>Female</td>\n",
              "            <td>46</td>\n",
              "            <td>54</td>\n",
              "            <td>44</td>\n",
              "        </tr>\n",
              "        <tr>\n",
              "            <td>85</td>\n",
              "            <td>Female</td>\n",
              "            <td>21</td>\n",
              "            <td>54</td>\n",
              "            <td>57</td>\n",
              "        </tr>\n",
              "        <tr>\n",
              "            <td>86</td>\n",
              "            <td>Male</td>\n",
              "            <td>48</td>\n",
              "            <td>54</td>\n",
              "            <td>46</td>\n",
              "        </tr>\n",
              "        <tr>\n",
              "            <td>87</td>\n",
              "            <td>Female</td>\n",
              "            <td>55</td>\n",
              "            <td>57</td>\n",
              "            <td>58</td>\n",
              "        </tr>\n",
              "        <tr>\n",
              "            <td>88</td>\n",
              "            <td>Female</td>\n",
              "            <td>22</td>\n",
              "            <td>57</td>\n",
              "            <td>55</td>\n",
              "        </tr>\n",
              "        <tr>\n",
              "            <td>89</td>\n",
              "            <td>Female</td>\n",
              "            <td>34</td>\n",
              "            <td>58</td>\n",
              "            <td>60</td>\n",
              "        </tr>\n",
              "        <tr>\n",
              "            <td>90</td>\n",
              "            <td>Female</td>\n",
              "            <td>50</td>\n",
              "            <td>58</td>\n",
              "            <td>46</td>\n",
              "        </tr>\n",
              "        <tr>\n",
              "            <td>91</td>\n",
              "            <td>Female</td>\n",
              "            <td>68</td>\n",
              "            <td>59</td>\n",
              "            <td>55</td>\n",
              "        </tr>\n",
              "        <tr>\n",
              "            <td>92</td>\n",
              "            <td>Male</td>\n",
              "            <td>18</td>\n",
              "            <td>59</td>\n",
              "            <td>41</td>\n",
              "        </tr>\n",
              "        <tr>\n",
              "            <td>93</td>\n",
              "            <td>Male</td>\n",
              "            <td>48</td>\n",
              "            <td>60</td>\n",
              "            <td>49</td>\n",
              "        </tr>\n",
              "        <tr>\n",
              "            <td>94</td>\n",
              "            <td>Female</td>\n",
              "            <td>40</td>\n",
              "            <td>60</td>\n",
              "            <td>40</td>\n",
              "        </tr>\n",
              "        <tr>\n",
              "            <td>95</td>\n",
              "            <td>Female</td>\n",
              "            <td>32</td>\n",
              "            <td>60</td>\n",
              "            <td>42</td>\n",
              "        </tr>\n",
              "        <tr>\n",
              "            <td>96</td>\n",
              "            <td>Male</td>\n",
              "            <td>24</td>\n",
              "            <td>60</td>\n",
              "            <td>52</td>\n",
              "        </tr>\n",
              "        <tr>\n",
              "            <td>97</td>\n",
              "            <td>Female</td>\n",
              "            <td>47</td>\n",
              "            <td>60</td>\n",
              "            <td>47</td>\n",
              "        </tr>\n",
              "        <tr>\n",
              "            <td>98</td>\n",
              "            <td>Female</td>\n",
              "            <td>27</td>\n",
              "            <td>60</td>\n",
              "            <td>50</td>\n",
              "        </tr>\n",
              "        <tr>\n",
              "            <td>99</td>\n",
              "            <td>Male</td>\n",
              "            <td>48</td>\n",
              "            <td>61</td>\n",
              "            <td>42</td>\n",
              "        </tr>\n",
              "        <tr>\n",
              "            <td>100</td>\n",
              "            <td>Male</td>\n",
              "            <td>20</td>\n",
              "            <td>61</td>\n",
              "            <td>49</td>\n",
              "        </tr>\n",
              "        <tr>\n",
              "            <td>101</td>\n",
              "            <td>Female</td>\n",
              "            <td>23</td>\n",
              "            <td>62</td>\n",
              "            <td>41</td>\n",
              "        </tr>\n",
              "        <tr>\n",
              "            <td>102</td>\n",
              "            <td>Female</td>\n",
              "            <td>49</td>\n",
              "            <td>62</td>\n",
              "            <td>48</td>\n",
              "        </tr>\n",
              "        <tr>\n",
              "            <td>103</td>\n",
              "            <td>Male</td>\n",
              "            <td>67</td>\n",
              "            <td>62</td>\n",
              "            <td>59</td>\n",
              "        </tr>\n",
              "        <tr>\n",
              "            <td>104</td>\n",
              "            <td>Male</td>\n",
              "            <td>26</td>\n",
              "            <td>62</td>\n",
              "            <td>55</td>\n",
              "        </tr>\n",
              "        <tr>\n",
              "            <td>105</td>\n",
              "            <td>Male</td>\n",
              "            <td>49</td>\n",
              "            <td>62</td>\n",
              "            <td>56</td>\n",
              "        </tr>\n",
              "        <tr>\n",
              "            <td>106</td>\n",
              "            <td>Female</td>\n",
              "            <td>21</td>\n",
              "            <td>62</td>\n",
              "            <td>42</td>\n",
              "        </tr>\n",
              "        <tr>\n",
              "            <td>107</td>\n",
              "            <td>Female</td>\n",
              "            <td>66</td>\n",
              "            <td>63</td>\n",
              "            <td>50</td>\n",
              "        </tr>\n",
              "        <tr>\n",
              "            <td>108</td>\n",
              "            <td>Male</td>\n",
              "            <td>54</td>\n",
              "            <td>63</td>\n",
              "            <td>46</td>\n",
              "        </tr>\n",
              "        <tr>\n",
              "            <td>109</td>\n",
              "            <td>Male</td>\n",
              "            <td>68</td>\n",
              "            <td>63</td>\n",
              "            <td>43</td>\n",
              "        </tr>\n",
              "        <tr>\n",
              "            <td>110</td>\n",
              "            <td>Male</td>\n",
              "            <td>66</td>\n",
              "            <td>63</td>\n",
              "            <td>48</td>\n",
              "        </tr>\n",
              "        <tr>\n",
              "            <td>111</td>\n",
              "            <td>Male</td>\n",
              "            <td>65</td>\n",
              "            <td>63</td>\n",
              "            <td>52</td>\n",
              "        </tr>\n",
              "        <tr>\n",
              "            <td>112</td>\n",
              "            <td>Female</td>\n",
              "            <td>19</td>\n",
              "            <td>63</td>\n",
              "            <td>54</td>\n",
              "        </tr>\n",
              "        <tr>\n",
              "            <td>113</td>\n",
              "            <td>Female</td>\n",
              "            <td>38</td>\n",
              "            <td>64</td>\n",
              "            <td>42</td>\n",
              "        </tr>\n",
              "        <tr>\n",
              "            <td>114</td>\n",
              "            <td>Male</td>\n",
              "            <td>19</td>\n",
              "            <td>64</td>\n",
              "            <td>46</td>\n",
              "        </tr>\n",
              "        <tr>\n",
              "            <td>115</td>\n",
              "            <td>Female</td>\n",
              "            <td>18</td>\n",
              "            <td>65</td>\n",
              "            <td>48</td>\n",
              "        </tr>\n",
              "        <tr>\n",
              "            <td>116</td>\n",
              "            <td>Female</td>\n",
              "            <td>19</td>\n",
              "            <td>65</td>\n",
              "            <td>50</td>\n",
              "        </tr>\n",
              "        <tr>\n",
              "            <td>117</td>\n",
              "            <td>Female</td>\n",
              "            <td>63</td>\n",
              "            <td>65</td>\n",
              "            <td>43</td>\n",
              "        </tr>\n",
              "        <tr>\n",
              "            <td>118</td>\n",
              "            <td>Female</td>\n",
              "            <td>49</td>\n",
              "            <td>65</td>\n",
              "            <td>59</td>\n",
              "        </tr>\n",
              "        <tr>\n",
              "            <td>119</td>\n",
              "            <td>Female</td>\n",
              "            <td>51</td>\n",
              "            <td>67</td>\n",
              "            <td>43</td>\n",
              "        </tr>\n",
              "        <tr>\n",
              "            <td>120</td>\n",
              "            <td>Female</td>\n",
              "            <td>50</td>\n",
              "            <td>67</td>\n",
              "            <td>57</td>\n",
              "        </tr>\n",
              "        <tr>\n",
              "            <td>121</td>\n",
              "            <td>Male</td>\n",
              "            <td>27</td>\n",
              "            <td>67</td>\n",
              "            <td>56</td>\n",
              "        </tr>\n",
              "        <tr>\n",
              "            <td>122</td>\n",
              "            <td>Female</td>\n",
              "            <td>38</td>\n",
              "            <td>67</td>\n",
              "            <td>40</td>\n",
              "        </tr>\n",
              "        <tr>\n",
              "            <td>123</td>\n",
              "            <td>Female</td>\n",
              "            <td>40</td>\n",
              "            <td>69</td>\n",
              "            <td>58</td>\n",
              "        </tr>\n",
              "        <tr>\n",
              "            <td>124</td>\n",
              "            <td>Male</td>\n",
              "            <td>39</td>\n",
              "            <td>69</td>\n",
              "            <td>91</td>\n",
              "        </tr>\n",
              "        <tr>\n",
              "            <td>125</td>\n",
              "            <td>Female</td>\n",
              "            <td>23</td>\n",
              "            <td>70</td>\n",
              "            <td>29</td>\n",
              "        </tr>\n",
              "        <tr>\n",
              "            <td>126</td>\n",
              "            <td>Female</td>\n",
              "            <td>31</td>\n",
              "            <td>70</td>\n",
              "            <td>77</td>\n",
              "        </tr>\n",
              "        <tr>\n",
              "            <td>127</td>\n",
              "            <td>Male</td>\n",
              "            <td>43</td>\n",
              "            <td>71</td>\n",
              "            <td>35</td>\n",
              "        </tr>\n",
              "        <tr>\n",
              "            <td>128</td>\n",
              "            <td>Male</td>\n",
              "            <td>40</td>\n",
              "            <td>71</td>\n",
              "            <td>95</td>\n",
              "        </tr>\n",
              "        <tr>\n",
              "            <td>129</td>\n",
              "            <td>Male</td>\n",
              "            <td>59</td>\n",
              "            <td>71</td>\n",
              "            <td>11</td>\n",
              "        </tr>\n",
              "        <tr>\n",
              "            <td>130</td>\n",
              "            <td>Male</td>\n",
              "            <td>38</td>\n",
              "            <td>71</td>\n",
              "            <td>75</td>\n",
              "        </tr>\n",
              "        <tr>\n",
              "            <td>131</td>\n",
              "            <td>Male</td>\n",
              "            <td>47</td>\n",
              "            <td>71</td>\n",
              "            <td>9</td>\n",
              "        </tr>\n",
              "        <tr>\n",
              "            <td>132</td>\n",
              "            <td>Male</td>\n",
              "            <td>39</td>\n",
              "            <td>71</td>\n",
              "            <td>75</td>\n",
              "        </tr>\n",
              "        <tr>\n",
              "            <td>133</td>\n",
              "            <td>Female</td>\n",
              "            <td>25</td>\n",
              "            <td>72</td>\n",
              "            <td>34</td>\n",
              "        </tr>\n",
              "        <tr>\n",
              "            <td>134</td>\n",
              "            <td>Female</td>\n",
              "            <td>31</td>\n",
              "            <td>72</td>\n",
              "            <td>71</td>\n",
              "        </tr>\n",
              "        <tr>\n",
              "            <td>135</td>\n",
              "            <td>Male</td>\n",
              "            <td>20</td>\n",
              "            <td>73</td>\n",
              "            <td>5</td>\n",
              "        </tr>\n",
              "        <tr>\n",
              "            <td>136</td>\n",
              "            <td>Female</td>\n",
              "            <td>29</td>\n",
              "            <td>73</td>\n",
              "            <td>88</td>\n",
              "        </tr>\n",
              "        <tr>\n",
              "            <td>137</td>\n",
              "            <td>Female</td>\n",
              "            <td>44</td>\n",
              "            <td>73</td>\n",
              "            <td>7</td>\n",
              "        </tr>\n",
              "        <tr>\n",
              "            <td>138</td>\n",
              "            <td>Male</td>\n",
              "            <td>32</td>\n",
              "            <td>73</td>\n",
              "            <td>73</td>\n",
              "        </tr>\n",
              "        <tr>\n",
              "            <td>139</td>\n",
              "            <td>Male</td>\n",
              "            <td>19</td>\n",
              "            <td>74</td>\n",
              "            <td>10</td>\n",
              "        </tr>\n",
              "        <tr>\n",
              "            <td>140</td>\n",
              "            <td>Female</td>\n",
              "            <td>35</td>\n",
              "            <td>74</td>\n",
              "            <td>72</td>\n",
              "        </tr>\n",
              "        <tr>\n",
              "            <td>141</td>\n",
              "            <td>Female</td>\n",
              "            <td>57</td>\n",
              "            <td>75</td>\n",
              "            <td>5</td>\n",
              "        </tr>\n",
              "        <tr>\n",
              "            <td>142</td>\n",
              "            <td>Male</td>\n",
              "            <td>32</td>\n",
              "            <td>75</td>\n",
              "            <td>93</td>\n",
              "        </tr>\n",
              "        <tr>\n",
              "            <td>143</td>\n",
              "            <td>Female</td>\n",
              "            <td>28</td>\n",
              "            <td>76</td>\n",
              "            <td>40</td>\n",
              "        </tr>\n",
              "        <tr>\n",
              "            <td>144</td>\n",
              "            <td>Female</td>\n",
              "            <td>32</td>\n",
              "            <td>76</td>\n",
              "            <td>87</td>\n",
              "        </tr>\n",
              "        <tr>\n",
              "            <td>145</td>\n",
              "            <td>Male</td>\n",
              "            <td>25</td>\n",
              "            <td>77</td>\n",
              "            <td>12</td>\n",
              "        </tr>\n",
              "        <tr>\n",
              "            <td>146</td>\n",
              "            <td>Male</td>\n",
              "            <td>28</td>\n",
              "            <td>77</td>\n",
              "            <td>97</td>\n",
              "        </tr>\n",
              "        <tr>\n",
              "            <td>147</td>\n",
              "            <td>Male</td>\n",
              "            <td>48</td>\n",
              "            <td>77</td>\n",
              "            <td>36</td>\n",
              "        </tr>\n",
              "        <tr>\n",
              "            <td>148</td>\n",
              "            <td>Female</td>\n",
              "            <td>32</td>\n",
              "            <td>77</td>\n",
              "            <td>74</td>\n",
              "        </tr>\n",
              "        <tr>\n",
              "            <td>149</td>\n",
              "            <td>Female</td>\n",
              "            <td>34</td>\n",
              "            <td>78</td>\n",
              "            <td>22</td>\n",
              "        </tr>\n",
              "        <tr>\n",
              "            <td>150</td>\n",
              "            <td>Male</td>\n",
              "            <td>34</td>\n",
              "            <td>78</td>\n",
              "            <td>90</td>\n",
              "        </tr>\n",
              "        <tr>\n",
              "            <td>151</td>\n",
              "            <td>Male</td>\n",
              "            <td>43</td>\n",
              "            <td>78</td>\n",
              "            <td>17</td>\n",
              "        </tr>\n",
              "        <tr>\n",
              "            <td>152</td>\n",
              "            <td>Male</td>\n",
              "            <td>39</td>\n",
              "            <td>78</td>\n",
              "            <td>88</td>\n",
              "        </tr>\n",
              "        <tr>\n",
              "            <td>153</td>\n",
              "            <td>Female</td>\n",
              "            <td>44</td>\n",
              "            <td>78</td>\n",
              "            <td>20</td>\n",
              "        </tr>\n",
              "        <tr>\n",
              "            <td>154</td>\n",
              "            <td>Female</td>\n",
              "            <td>38</td>\n",
              "            <td>78</td>\n",
              "            <td>76</td>\n",
              "        </tr>\n",
              "        <tr>\n",
              "            <td>155</td>\n",
              "            <td>Female</td>\n",
              "            <td>47</td>\n",
              "            <td>78</td>\n",
              "            <td>16</td>\n",
              "        </tr>\n",
              "        <tr>\n",
              "            <td>156</td>\n",
              "            <td>Female</td>\n",
              "            <td>27</td>\n",
              "            <td>78</td>\n",
              "            <td>89</td>\n",
              "        </tr>\n",
              "        <tr>\n",
              "            <td>157</td>\n",
              "            <td>Male</td>\n",
              "            <td>37</td>\n",
              "            <td>78</td>\n",
              "            <td>1</td>\n",
              "        </tr>\n",
              "        <tr>\n",
              "            <td>158</td>\n",
              "            <td>Female</td>\n",
              "            <td>30</td>\n",
              "            <td>78</td>\n",
              "            <td>78</td>\n",
              "        </tr>\n",
              "        <tr>\n",
              "            <td>159</td>\n",
              "            <td>Male</td>\n",
              "            <td>34</td>\n",
              "            <td>78</td>\n",
              "            <td>1</td>\n",
              "        </tr>\n",
              "        <tr>\n",
              "            <td>160</td>\n",
              "            <td>Female</td>\n",
              "            <td>30</td>\n",
              "            <td>78</td>\n",
              "            <td>73</td>\n",
              "        </tr>\n",
              "        <tr>\n",
              "            <td>161</td>\n",
              "            <td>Female</td>\n",
              "            <td>56</td>\n",
              "            <td>79</td>\n",
              "            <td>35</td>\n",
              "        </tr>\n",
              "        <tr>\n",
              "            <td>162</td>\n",
              "            <td>Female</td>\n",
              "            <td>29</td>\n",
              "            <td>79</td>\n",
              "            <td>83</td>\n",
              "        </tr>\n",
              "        <tr>\n",
              "            <td>163</td>\n",
              "            <td>Male</td>\n",
              "            <td>19</td>\n",
              "            <td>81</td>\n",
              "            <td>5</td>\n",
              "        </tr>\n",
              "        <tr>\n",
              "            <td>164</td>\n",
              "            <td>Female</td>\n",
              "            <td>31</td>\n",
              "            <td>81</td>\n",
              "            <td>93</td>\n",
              "        </tr>\n",
              "        <tr>\n",
              "            <td>165</td>\n",
              "            <td>Male</td>\n",
              "            <td>50</td>\n",
              "            <td>85</td>\n",
              "            <td>26</td>\n",
              "        </tr>\n",
              "        <tr>\n",
              "            <td>166</td>\n",
              "            <td>Female</td>\n",
              "            <td>36</td>\n",
              "            <td>85</td>\n",
              "            <td>75</td>\n",
              "        </tr>\n",
              "        <tr>\n",
              "            <td>167</td>\n",
              "            <td>Male</td>\n",
              "            <td>42</td>\n",
              "            <td>86</td>\n",
              "            <td>20</td>\n",
              "        </tr>\n",
              "        <tr>\n",
              "            <td>168</td>\n",
              "            <td>Female</td>\n",
              "            <td>33</td>\n",
              "            <td>86</td>\n",
              "            <td>95</td>\n",
              "        </tr>\n",
              "        <tr>\n",
              "            <td>169</td>\n",
              "            <td>Female</td>\n",
              "            <td>36</td>\n",
              "            <td>87</td>\n",
              "            <td>27</td>\n",
              "        </tr>\n",
              "        <tr>\n",
              "            <td>170</td>\n",
              "            <td>Male</td>\n",
              "            <td>32</td>\n",
              "            <td>87</td>\n",
              "            <td>63</td>\n",
              "        </tr>\n",
              "        <tr>\n",
              "            <td>171</td>\n",
              "            <td>Male</td>\n",
              "            <td>40</td>\n",
              "            <td>87</td>\n",
              "            <td>13</td>\n",
              "        </tr>\n",
              "        <tr>\n",
              "            <td>172</td>\n",
              "            <td>Male</td>\n",
              "            <td>28</td>\n",
              "            <td>87</td>\n",
              "            <td>75</td>\n",
              "        </tr>\n",
              "        <tr>\n",
              "            <td>173</td>\n",
              "            <td>Male</td>\n",
              "            <td>36</td>\n",
              "            <td>87</td>\n",
              "            <td>10</td>\n",
              "        </tr>\n",
              "        <tr>\n",
              "            <td>174</td>\n",
              "            <td>Male</td>\n",
              "            <td>36</td>\n",
              "            <td>87</td>\n",
              "            <td>92</td>\n",
              "        </tr>\n",
              "        <tr>\n",
              "            <td>175</td>\n",
              "            <td>Female</td>\n",
              "            <td>52</td>\n",
              "            <td>88</td>\n",
              "            <td>13</td>\n",
              "        </tr>\n",
              "        <tr>\n",
              "            <td>176</td>\n",
              "            <td>Female</td>\n",
              "            <td>30</td>\n",
              "            <td>88</td>\n",
              "            <td>86</td>\n",
              "        </tr>\n",
              "        <tr>\n",
              "            <td>177</td>\n",
              "            <td>Male</td>\n",
              "            <td>58</td>\n",
              "            <td>88</td>\n",
              "            <td>15</td>\n",
              "        </tr>\n",
              "        <tr>\n",
              "            <td>178</td>\n",
              "            <td>Male</td>\n",
              "            <td>27</td>\n",
              "            <td>88</td>\n",
              "            <td>69</td>\n",
              "        </tr>\n",
              "        <tr>\n",
              "            <td>179</td>\n",
              "            <td>Male</td>\n",
              "            <td>59</td>\n",
              "            <td>93</td>\n",
              "            <td>14</td>\n",
              "        </tr>\n",
              "        <tr>\n",
              "            <td>180</td>\n",
              "            <td>Male</td>\n",
              "            <td>35</td>\n",
              "            <td>93</td>\n",
              "            <td>90</td>\n",
              "        </tr>\n",
              "        <tr>\n",
              "            <td>181</td>\n",
              "            <td>Female</td>\n",
              "            <td>37</td>\n",
              "            <td>97</td>\n",
              "            <td>32</td>\n",
              "        </tr>\n",
              "        <tr>\n",
              "            <td>182</td>\n",
              "            <td>Female</td>\n",
              "            <td>32</td>\n",
              "            <td>97</td>\n",
              "            <td>86</td>\n",
              "        </tr>\n",
              "        <tr>\n",
              "            <td>183</td>\n",
              "            <td>Male</td>\n",
              "            <td>46</td>\n",
              "            <td>98</td>\n",
              "            <td>15</td>\n",
              "        </tr>\n",
              "        <tr>\n",
              "            <td>184</td>\n",
              "            <td>Female</td>\n",
              "            <td>29</td>\n",
              "            <td>98</td>\n",
              "            <td>88</td>\n",
              "        </tr>\n",
              "        <tr>\n",
              "            <td>185</td>\n",
              "            <td>Female</td>\n",
              "            <td>41</td>\n",
              "            <td>99</td>\n",
              "            <td>39</td>\n",
              "        </tr>\n",
              "        <tr>\n",
              "            <td>186</td>\n",
              "            <td>Male</td>\n",
              "            <td>30</td>\n",
              "            <td>99</td>\n",
              "            <td>97</td>\n",
              "        </tr>\n",
              "        <tr>\n",
              "            <td>187</td>\n",
              "            <td>Female</td>\n",
              "            <td>54</td>\n",
              "            <td>101</td>\n",
              "            <td>24</td>\n",
              "        </tr>\n",
              "        <tr>\n",
              "            <td>188</td>\n",
              "            <td>Male</td>\n",
              "            <td>28</td>\n",
              "            <td>101</td>\n",
              "            <td>68</td>\n",
              "        </tr>\n",
              "        <tr>\n",
              "            <td>189</td>\n",
              "            <td>Female</td>\n",
              "            <td>41</td>\n",
              "            <td>103</td>\n",
              "            <td>17</td>\n",
              "        </tr>\n",
              "        <tr>\n",
              "            <td>190</td>\n",
              "            <td>Female</td>\n",
              "            <td>36</td>\n",
              "            <td>103</td>\n",
              "            <td>85</td>\n",
              "        </tr>\n",
              "        <tr>\n",
              "            <td>191</td>\n",
              "            <td>Female</td>\n",
              "            <td>34</td>\n",
              "            <td>103</td>\n",
              "            <td>23</td>\n",
              "        </tr>\n",
              "        <tr>\n",
              "            <td>192</td>\n",
              "            <td>Female</td>\n",
              "            <td>32</td>\n",
              "            <td>103</td>\n",
              "            <td>69</td>\n",
              "        </tr>\n",
              "        <tr>\n",
              "            <td>193</td>\n",
              "            <td>Male</td>\n",
              "            <td>33</td>\n",
              "            <td>113</td>\n",
              "            <td>8</td>\n",
              "        </tr>\n",
              "        <tr>\n",
              "            <td>194</td>\n",
              "            <td>Female</td>\n",
              "            <td>38</td>\n",
              "            <td>113</td>\n",
              "            <td>91</td>\n",
              "        </tr>\n",
              "        <tr>\n",
              "            <td>195</td>\n",
              "            <td>Female</td>\n",
              "            <td>47</td>\n",
              "            <td>120</td>\n",
              "            <td>16</td>\n",
              "        </tr>\n",
              "        <tr>\n",
              "            <td>196</td>\n",
              "            <td>Female</td>\n",
              "            <td>35</td>\n",
              "            <td>120</td>\n",
              "            <td>79</td>\n",
              "        </tr>\n",
              "        <tr>\n",
              "            <td>197</td>\n",
              "            <td>Female</td>\n",
              "            <td>45</td>\n",
              "            <td>126</td>\n",
              "            <td>28</td>\n",
              "        </tr>\n",
              "        <tr>\n",
              "            <td>198</td>\n",
              "            <td>Male</td>\n",
              "            <td>32</td>\n",
              "            <td>126</td>\n",
              "            <td>74</td>\n",
              "        </tr>\n",
              "        <tr>\n",
              "            <td>199</td>\n",
              "            <td>Male</td>\n",
              "            <td>32</td>\n",
              "            <td>137</td>\n",
              "            <td>18</td>\n",
              "        </tr>\n",
              "        <tr>\n",
              "            <td>200</td>\n",
              "            <td>Male</td>\n",
              "            <td>30</td>\n",
              "            <td>137</td>\n",
              "            <td>83</td>\n",
              "        </tr>\n",
              "    </tbody>\n",
              "</table>"
            ],
            "text/plain": [
              "[(1, 'Male', 19, 15, 39),\n",
              " (2, 'Male', 21, 15, 81),\n",
              " (3, 'Female', 20, 16, 6),\n",
              " (4, 'Female', 23, 16, 77),\n",
              " (5, 'Female', 31, 17, 40),\n",
              " (6, 'Female', 22, 17, 76),\n",
              " (7, 'Female', 35, 18, 6),\n",
              " (8, 'Female', 23, 18, 94),\n",
              " (9, 'Male', 64, 19, 3),\n",
              " (10, 'Female', 30, 19, 72),\n",
              " (11, 'Male', 67, 19, 14),\n",
              " (12, 'Female', 35, 19, 99),\n",
              " (13, 'Female', 58, 20, 15),\n",
              " (14, 'Female', 24, 20, 77),\n",
              " (15, 'Male', 37, 20, 13),\n",
              " (16, 'Male', 22, 20, 79),\n",
              " (17, 'Female', 35, 21, 35),\n",
              " (18, 'Male', 20, 21, 66),\n",
              " (19, 'Male', 52, 23, 29),\n",
              " (20, 'Female', 35, 23, 98),\n",
              " (21, 'Male', 35, 24, 35),\n",
              " (22, 'Male', 25, 24, 73),\n",
              " (23, 'Female', 46, 25, 5),\n",
              " (24, 'Male', 31, 25, 73),\n",
              " (25, 'Female', 54, 28, 14),\n",
              " (26, 'Male', 29, 28, 82),\n",
              " (27, 'Female', 45, 28, 32),\n",
              " (28, 'Male', 35, 28, 61),\n",
              " (29, 'Female', 40, 29, 31),\n",
              " (30, 'Female', 23, 29, 87),\n",
              " (31, 'Male', 60, 30, 4),\n",
              " (32, 'Female', 21, 30, 73),\n",
              " (33, 'Male', 53, 33, 4),\n",
              " (34, 'Male', 18, 33, 92),\n",
              " (35, 'Female', 49, 33, 14),\n",
              " (36, 'Female', 21, 33, 81),\n",
              " (37, 'Female', 42, 34, 17),\n",
              " (38, 'Female', 30, 34, 73),\n",
              " (39, 'Female', 36, 37, 26),\n",
              " (40, 'Female', 20, 37, 75),\n",
              " (41, 'Female', 65, 38, 35),\n",
              " (42, 'Male', 24, 38, 92),\n",
              " (43, 'Male', 48, 39, 36),\n",
              " (44, 'Female', 31, 39, 61),\n",
              " (45, 'Female', 49, 39, 28),\n",
              " (46, 'Female', 24, 39, 65),\n",
              " (47, 'Female', 50, 40, 55),\n",
              " (48, 'Female', 27, 40, 47),\n",
              " (49, 'Female', 29, 40, 42),\n",
              " (50, 'Female', 31, 40, 42),\n",
              " (51, 'Female', 49, 42, 52),\n",
              " (52, 'Male', 33, 42, 60),\n",
              " (53, 'Female', 31, 43, 54),\n",
              " (54, 'Male', 59, 43, 60),\n",
              " (55, 'Female', 50, 43, 45),\n",
              " (56, 'Male', 47, 43, 41),\n",
              " (57, 'Female', 51, 44, 50),\n",
              " (58, 'Male', 69, 44, 46),\n",
              " (59, 'Female', 27, 46, 51),\n",
              " (60, 'Male', 53, 46, 46),\n",
              " (61, 'Male', 70, 46, 56),\n",
              " (62, 'Male', 19, 46, 55),\n",
              " (63, 'Female', 67, 47, 52),\n",
              " (64, 'Female', 54, 47, 59),\n",
              " (65, 'Male', 63, 48, 51),\n",
              " (66, 'Male', 18, 48, 59),\n",
              " (67, 'Female', 43, 48, 50),\n",
              " (68, 'Female', 68, 48, 48),\n",
              " (69, 'Male', 19, 48, 59),\n",
              " (70, 'Female', 32, 48, 47),\n",
              " (71, 'Male', 70, 49, 55),\n",
              " (72, 'Female', 47, 49, 42),\n",
              " (73, 'Female', 60, 50, 49),\n",
              " (74, 'Female', 60, 50, 56),\n",
              " (75, 'Male', 59, 54, 47),\n",
              " (76, 'Male', 26, 54, 54),\n",
              " (77, 'Female', 45, 54, 53),\n",
              " (78, 'Male', 40, 54, 48),\n",
              " (79, 'Female', 23, 54, 52),\n",
              " (80, 'Female', 49, 54, 42),\n",
              " (81, 'Male', 57, 54, 51),\n",
              " (82, 'Male', 38, 54, 55),\n",
              " (83, 'Male', 67, 54, 41),\n",
              " (84, 'Female', 46, 54, 44),\n",
              " (85, 'Female', 21, 54, 57),\n",
              " (86, 'Male', 48, 54, 46),\n",
              " (87, 'Female', 55, 57, 58),\n",
              " (88, 'Female', 22, 57, 55),\n",
              " (89, 'Female', 34, 58, 60),\n",
              " (90, 'Female', 50, 58, 46),\n",
              " (91, 'Female', 68, 59, 55),\n",
              " (92, 'Male', 18, 59, 41),\n",
              " (93, 'Male', 48, 60, 49),\n",
              " (94, 'Female', 40, 60, 40),\n",
              " (95, 'Female', 32, 60, 42),\n",
              " (96, 'Male', 24, 60, 52),\n",
              " (97, 'Female', 47, 60, 47),\n",
              " (98, 'Female', 27, 60, 50),\n",
              " (99, 'Male', 48, 61, 42),\n",
              " (100, 'Male', 20, 61, 49),\n",
              " (101, 'Female', 23, 62, 41),\n",
              " (102, 'Female', 49, 62, 48),\n",
              " (103, 'Male', 67, 62, 59),\n",
              " (104, 'Male', 26, 62, 55),\n",
              " (105, 'Male', 49, 62, 56),\n",
              " (106, 'Female', 21, 62, 42),\n",
              " (107, 'Female', 66, 63, 50),\n",
              " (108, 'Male', 54, 63, 46),\n",
              " (109, 'Male', 68, 63, 43),\n",
              " (110, 'Male', 66, 63, 48),\n",
              " (111, 'Male', 65, 63, 52),\n",
              " (112, 'Female', 19, 63, 54),\n",
              " (113, 'Female', 38, 64, 42),\n",
              " (114, 'Male', 19, 64, 46),\n",
              " (115, 'Female', 18, 65, 48),\n",
              " (116, 'Female', 19, 65, 50),\n",
              " (117, 'Female', 63, 65, 43),\n",
              " (118, 'Female', 49, 65, 59),\n",
              " (119, 'Female', 51, 67, 43),\n",
              " (120, 'Female', 50, 67, 57),\n",
              " (121, 'Male', 27, 67, 56),\n",
              " (122, 'Female', 38, 67, 40),\n",
              " (123, 'Female', 40, 69, 58),\n",
              " (124, 'Male', 39, 69, 91),\n",
              " (125, 'Female', 23, 70, 29),\n",
              " (126, 'Female', 31, 70, 77),\n",
              " (127, 'Male', 43, 71, 35),\n",
              " (128, 'Male', 40, 71, 95),\n",
              " (129, 'Male', 59, 71, 11),\n",
              " (130, 'Male', 38, 71, 75),\n",
              " (131, 'Male', 47, 71, 9),\n",
              " (132, 'Male', 39, 71, 75),\n",
              " (133, 'Female', 25, 72, 34),\n",
              " (134, 'Female', 31, 72, 71),\n",
              " (135, 'Male', 20, 73, 5),\n",
              " (136, 'Female', 29, 73, 88),\n",
              " (137, 'Female', 44, 73, 7),\n",
              " (138, 'Male', 32, 73, 73),\n",
              " (139, 'Male', 19, 74, 10),\n",
              " (140, 'Female', 35, 74, 72),\n",
              " (141, 'Female', 57, 75, 5),\n",
              " (142, 'Male', 32, 75, 93),\n",
              " (143, 'Female', 28, 76, 40),\n",
              " (144, 'Female', 32, 76, 87),\n",
              " (145, 'Male', 25, 77, 12),\n",
              " (146, 'Male', 28, 77, 97),\n",
              " (147, 'Male', 48, 77, 36),\n",
              " (148, 'Female', 32, 77, 74),\n",
              " (149, 'Female', 34, 78, 22),\n",
              " (150, 'Male', 34, 78, 90),\n",
              " (151, 'Male', 43, 78, 17),\n",
              " (152, 'Male', 39, 78, 88),\n",
              " (153, 'Female', 44, 78, 20),\n",
              " (154, 'Female', 38, 78, 76),\n",
              " (155, 'Female', 47, 78, 16),\n",
              " (156, 'Female', 27, 78, 89),\n",
              " (157, 'Male', 37, 78, 1),\n",
              " (158, 'Female', 30, 78, 78),\n",
              " (159, 'Male', 34, 78, 1),\n",
              " (160, 'Female', 30, 78, 73),\n",
              " (161, 'Female', 56, 79, 35),\n",
              " (162, 'Female', 29, 79, 83),\n",
              " (163, 'Male', 19, 81, 5),\n",
              " (164, 'Female', 31, 81, 93),\n",
              " (165, 'Male', 50, 85, 26),\n",
              " (166, 'Female', 36, 85, 75),\n",
              " (167, 'Male', 42, 86, 20),\n",
              " (168, 'Female', 33, 86, 95),\n",
              " (169, 'Female', 36, 87, 27),\n",
              " (170, 'Male', 32, 87, 63),\n",
              " (171, 'Male', 40, 87, 13),\n",
              " (172, 'Male', 28, 87, 75),\n",
              " (173, 'Male', 36, 87, 10),\n",
              " (174, 'Male', 36, 87, 92),\n",
              " (175, 'Female', 52, 88, 13),\n",
              " (176, 'Female', 30, 88, 86),\n",
              " (177, 'Male', 58, 88, 15),\n",
              " (178, 'Male', 27, 88, 69),\n",
              " (179, 'Male', 59, 93, 14),\n",
              " (180, 'Male', 35, 93, 90),\n",
              " (181, 'Female', 37, 97, 32),\n",
              " (182, 'Female', 32, 97, 86),\n",
              " (183, 'Male', 46, 98, 15),\n",
              " (184, 'Female', 29, 98, 88),\n",
              " (185, 'Female', 41, 99, 39),\n",
              " (186, 'Male', 30, 99, 97),\n",
              " (187, 'Female', 54, 101, 24),\n",
              " (188, 'Male', 28, 101, 68),\n",
              " (189, 'Female', 41, 103, 17),\n",
              " (190, 'Female', 36, 103, 85),\n",
              " (191, 'Female', 34, 103, 23),\n",
              " (192, 'Female', 32, 103, 69),\n",
              " (193, 'Male', 33, 113, 8),\n",
              " (194, 'Female', 38, 113, 91),\n",
              " (195, 'Female', 47, 120, 16),\n",
              " (196, 'Female', 35, 120, 79),\n",
              " (197, 'Female', 45, 126, 28),\n",
              " (198, 'Male', 32, 126, 74),\n",
              " (199, 'Male', 32, 137, 18),\n",
              " (200, 'Male', 30, 137, 83)]"
            ]
          },
          "metadata": {
            "tags": []
          },
          "execution_count": 10
        }
      ]
    },
    {
      "cell_type": "markdown",
      "metadata": {
        "id": "eiHrcaJaGiMt"
      },
      "source": [
        "**Data understanding**"
      ]
    },
    {
      "cell_type": "code",
      "metadata": {
        "colab": {
          "base_uri": "https://localhost:8080/",
          "height": 297
        },
        "id": "jp-nxmXDG5kq",
        "outputId": "22cae463-e7d3-4bbb-ae3d-74959ef117a7"
      },
      "source": [
        "df.describe()"
      ],
      "execution_count": null,
      "outputs": [
        {
          "output_type": "execute_result",
          "data": {
            "text/html": [
              "<div>\n",
              "<style scoped>\n",
              "    .dataframe tbody tr th:only-of-type {\n",
              "        vertical-align: middle;\n",
              "    }\n",
              "\n",
              "    .dataframe tbody tr th {\n",
              "        vertical-align: top;\n",
              "    }\n",
              "\n",
              "    .dataframe thead th {\n",
              "        text-align: right;\n",
              "    }\n",
              "</style>\n",
              "<table border=\"1\" class=\"dataframe\">\n",
              "  <thead>\n",
              "    <tr style=\"text-align: right;\">\n",
              "      <th></th>\n",
              "      <th>Gender</th>\n",
              "      <th>Age</th>\n",
              "      <th>Annual_Income</th>\n",
              "      <th>Spending_Score</th>\n",
              "    </tr>\n",
              "  </thead>\n",
              "  <tbody>\n",
              "    <tr>\n",
              "      <th>count</th>\n",
              "      <td>200.000000</td>\n",
              "      <td>200.000000</td>\n",
              "      <td>200.000000</td>\n",
              "      <td>200.000000</td>\n",
              "    </tr>\n",
              "    <tr>\n",
              "      <th>mean</th>\n",
              "      <td>0.440000</td>\n",
              "      <td>38.850000</td>\n",
              "      <td>60.560000</td>\n",
              "      <td>50.200000</td>\n",
              "    </tr>\n",
              "    <tr>\n",
              "      <th>std</th>\n",
              "      <td>0.497633</td>\n",
              "      <td>13.969007</td>\n",
              "      <td>26.264721</td>\n",
              "      <td>25.823522</td>\n",
              "    </tr>\n",
              "    <tr>\n",
              "      <th>min</th>\n",
              "      <td>0.000000</td>\n",
              "      <td>18.000000</td>\n",
              "      <td>15.000000</td>\n",
              "      <td>1.000000</td>\n",
              "    </tr>\n",
              "    <tr>\n",
              "      <th>25%</th>\n",
              "      <td>0.000000</td>\n",
              "      <td>28.750000</td>\n",
              "      <td>41.500000</td>\n",
              "      <td>34.750000</td>\n",
              "    </tr>\n",
              "    <tr>\n",
              "      <th>50%</th>\n",
              "      <td>0.000000</td>\n",
              "      <td>36.000000</td>\n",
              "      <td>61.500000</td>\n",
              "      <td>50.000000</td>\n",
              "    </tr>\n",
              "    <tr>\n",
              "      <th>75%</th>\n",
              "      <td>1.000000</td>\n",
              "      <td>49.000000</td>\n",
              "      <td>78.000000</td>\n",
              "      <td>73.000000</td>\n",
              "    </tr>\n",
              "    <tr>\n",
              "      <th>max</th>\n",
              "      <td>1.000000</td>\n",
              "      <td>70.000000</td>\n",
              "      <td>137.000000</td>\n",
              "      <td>99.000000</td>\n",
              "    </tr>\n",
              "  </tbody>\n",
              "</table>\n",
              "</div>"
            ],
            "text/plain": [
              "           Gender         Age  Annual_Income  Spending_Score\n",
              "count  200.000000  200.000000     200.000000      200.000000\n",
              "mean     0.440000   38.850000      60.560000       50.200000\n",
              "std      0.497633   13.969007      26.264721       25.823522\n",
              "min      0.000000   18.000000      15.000000        1.000000\n",
              "25%      0.000000   28.750000      41.500000       34.750000\n",
              "50%      0.000000   36.000000      61.500000       50.000000\n",
              "75%      1.000000   49.000000      78.000000       73.000000\n",
              "max      1.000000   70.000000     137.000000       99.000000"
            ]
          },
          "metadata": {
            "tags": []
          },
          "execution_count": 19
        }
      ]
    },
    {
      "cell_type": "markdown",
      "metadata": {
        "id": "Oq-VktAkHLsh"
      },
      "source": [
        "The above 3 variables seem legible:\n",
        "\n",
        "Age; it lies between 18 and 70, all values seem to be legible\n",
        "Annual income; it lies between 15k to 137k $\n",
        "Spending score; it Lies between 1 and 99, which also seems legible."
      ]
    },
    {
      "cell_type": "markdown",
      "metadata": {
        "id": "P9pZjTMr7oFN"
      },
      "source": [
        "**Data Exploration**\n",
        "\n",
        "In this stage we are doing a little bit of data exploration, checking for null values, object data types and other things we might consider in order to keep our data clean and well structured. Also normalization will be undertaken in this stage.\n",
        "\n",
        "***Pre-processing***\n",
        "The 'Gender' Attribute or feature column in this dataset is a norminal variable ; the k-Means algorithm isn’t directly applicable to nominal variables as the Euclidean distance function isn’t really meant for discrete variables. So, we’ll e drop this feature and run clustering.\n"
      ]
    },
    {
      "cell_type": "code",
      "metadata": {
        "colab": {
          "base_uri": "https://localhost:8080/"
        },
        "id": "dOflskJv9XZy",
        "outputId": "8525985a-8327-4329-fe4b-1b9fb111210f"
      },
      "source": [
        "#Display dataset of Naivas Supermarket\n",
        "#print the first five rows\n",
        "print (df.head())"
      ],
      "execution_count": null,
      "outputs": [
        {
          "output_type": "stream",
          "text": [
            "            Gender  Age  Annual Income (k$)  Spending Score (1-100)\n",
            "CustomerID                                                         \n",
            "1             Male   19                  15                      39\n",
            "2             Male   21                  15                      81\n",
            "3           Female   20                  16                       6\n",
            "4           Female   23                  16                      77\n",
            "5           Female   31                  17                      40\n"
          ],
          "name": "stdout"
        }
      ]
    },
    {
      "cell_type": "markdown",
      "metadata": {
        "id": "nXzNTlmL9kPX"
      },
      "source": [
        "We observe that there 5 columns CustomerID, Gender, Age, Annual Income (k$) Spending Score (1-100)"
      ]
    },
    {
      "cell_type": "code",
      "metadata": {
        "colab": {
          "base_uri": "https://localhost:8080/"
        },
        "id": "r8YoahMu9vZN",
        "outputId": "8c2b2d7c-758e-4f34-ee58-1d6f04738293"
      },
      "source": [
        "# check data size\n",
        "df.shape"
      ],
      "execution_count": null,
      "outputs": [
        {
          "output_type": "execute_result",
          "data": {
            "text/plain": [
              "(200, 4)"
            ]
          },
          "metadata": {
            "tags": []
          },
          "execution_count": 12
        }
      ]
    },
    {
      "cell_type": "markdown",
      "metadata": {
        "id": "jT5rC5dC_jcE"
      },
      "source": [
        "changing attribute names into a format which is easier to access"
      ]
    },
    {
      "cell_type": "code",
      "metadata": {
        "id": "YOHLKXM__1VR"
      },
      "source": [
        "#Changing columns name into an easier format\n",
        "df = df.rename(columns={'Annual Income (k$)': 'Annual_Income', 'Spending Score (1-100)': 'Spending_Score'})"
      ],
      "execution_count": null,
      "outputs": []
    },
    {
      "cell_type": "markdown",
      "metadata": {
        "id": "-i8CK7UrAmE-"
      },
      "source": [
        "Check for null values"
      ]
    },
    {
      "cell_type": "code",
      "metadata": {
        "colab": {
          "base_uri": "https://localhost:8080/"
        },
        "id": "JgGIh2NlA8Mr",
        "outputId": "59d174e8-7707-41f9-9549-9731e86f3b64"
      },
      "source": [
        "#check if there are null values\n",
        "df.isna().sum()"
      ],
      "execution_count": null,
      "outputs": [
        {
          "output_type": "execute_result",
          "data": {
            "text/plain": [
              "Gender            0\n",
              "Age               0\n",
              "Annual_Income     0\n",
              "Spending_Score    0\n",
              "dtype: int64"
            ]
          },
          "metadata": {
            "tags": []
          },
          "execution_count": 15
        }
      ]
    },
    {
      "cell_type": "markdown",
      "metadata": {
        "id": "I5Vmy6XnBIgF"
      },
      "source": [
        "check for datatypes"
      ]
    },
    {
      "cell_type": "code",
      "metadata": {
        "colab": {
          "base_uri": "https://localhost:8080/"
        },
        "id": "57hu-zcsBUrE",
        "outputId": "51476e8c-9b4b-4903-a561-75b683cb9e83"
      },
      "source": [
        "df.info()"
      ],
      "execution_count": null,
      "outputs": [
        {
          "output_type": "stream",
          "text": [
            "<class 'pandas.core.frame.DataFrame'>\n",
            "Int64Index: 200 entries, 1 to 200\n",
            "Data columns (total 4 columns):\n",
            " #   Column          Non-Null Count  Dtype \n",
            "---  ------          --------------  ----- \n",
            " 0   Gender          200 non-null    object\n",
            " 1   Age             200 non-null    int64 \n",
            " 2   Annual_Income   200 non-null    int64 \n",
            " 3   Spending_Score  200 non-null    int64 \n",
            "dtypes: int64(3), object(1)\n",
            "memory usage: 7.8+ KB\n"
          ],
          "name": "stdout"
        }
      ]
    },
    {
      "cell_type": "markdown",
      "metadata": {
        "id": "aKbHNoNPBkhE"
      },
      "source": [
        "The 'Gender' Attribute or feature column in this dataset is a norminal variable or a categorical variable ; the k-Means algorithm isn’t directly applicable to nominal variables as the Euclidean distance function isn’t really meant for discrete variables.\n",
        "so, wobject gender we are going to replace its values. Male will be 1 and female 0"
      ]
    },
    {
      "cell_type": "code",
      "metadata": {
        "id": "sajwQun3CiaP"
      },
      "source": [
        "#Replace object for a nominal variable or nonnumerical values\n",
        "df['Gender'].replace(['Male','Female'], [1,0],inplace=True)"
      ],
      "execution_count": null,
      "outputs": []
    },
    {
      "cell_type": "markdown",
      "metadata": {
        "id": "WsD_ICWnDDd4"
      },
      "source": [
        "Checking if values have been updated properly"
      ]
    },
    {
      "cell_type": "code",
      "metadata": {
        "colab": {
          "base_uri": "https://localhost:8080/"
        },
        "id": "n4JOvFLcDOuk",
        "outputId": "0aadac27-bb1a-4fc8-bd07-e294de99f091"
      },
      "source": [
        "# check if values have been updated properly\n",
        "df.Gender"
      ],
      "execution_count": null,
      "outputs": [
        {
          "output_type": "execute_result",
          "data": {
            "text/plain": [
              "CustomerID\n",
              "1      1\n",
              "2      1\n",
              "3      0\n",
              "4      0\n",
              "5      0\n",
              "      ..\n",
              "196    0\n",
              "197    0\n",
              "198    1\n",
              "199    1\n",
              "200    1\n",
              "Name: Gender, Length: 200, dtype: int64"
            ]
          },
          "metadata": {
            "tags": []
          },
          "execution_count": 18
        }
      ]
    },
    {
      "cell_type": "markdown",
      "metadata": {
        "id": "Sl8aSY5xJlP2"
      },
      "source": [
        "**Data Visualization**\n",
        "\n",
        "At this juncture we  visualize our data and plot important information so we can see or even visualize a  different values that our data has and its behaviour.\n",
        "To achieve that, we are only going to consider the following features or attributes: Annual_income, Spending_score and Age. \n",
        "Gender is a nominal or categorical variable which  will only be useful in  data separation making it easier to  distinguish  values for men and women."
      ]
    },
    {
      "cell_type": "markdown",
      "metadata": {
        "id": "j1mU0EoPYO9V"
      },
      "source": [
        "Density estimation of values using distplot\n",
        "\n",
        "The distplot() function combines the matplotlib hist function with the seaborn kdeplot() and rugplot() functions"
      ]
    },
    {
      "cell_type": "code",
      "metadata": {
        "id": "AAylbFxQKUk0",
        "colab": {
          "base_uri": "https://localhost:8080/",
          "height": 389
        },
        "outputId": "99d77830-daed-45a8-edf0-e576791e504e"
      },
      "source": [
        "#Density estimation of values using distplot\n",
        "plt.figure(1 , figsize = (15 , 6))\n",
        "feature_list = ['Age','Annual_Income', \"Spending_Score\"]\n",
        "pos = 1 \n",
        "for i in feature_list:\n",
        "    plt.subplot(1 , 3 , pos)\n",
        "    plt.subplots_adjust(hspace = 0.5 , wspace = 0.5 )\n",
        "    plt.subplots_adjust(hspace = 0.5 , wspace = 0.5 )\n",
        "    sns.distplot(df[i], bins=20,  kde = True)\n",
        "    pos = pos + 1\n",
        "plt.show()"
      ],
      "execution_count": null,
      "outputs": [
        {
          "output_type": "display_data",
          "data": {
            "image/png": "[encoded data removed]",
            "text/plain": [
              "<Figure size 1080x432 with 3 Axes>"
            ]
          },
          "metadata": {
            "tags": [],
            "needs_background": "light"
          }
        }
      ]
    },
    {
      "cell_type": "markdown",
      "metadata": {
        "id": "WD3ndsz2dzUU"
      },
      "source": [
        "From the plot we Observe that the distribution of these values resembles a Gaussian distribution, where the vast majority of the values lay in the middle with some exceptions in the extremes"
      ]
    },
    {
      "cell_type": "markdown",
      "metadata": {
        "id": "UsorDuI7gg6B"
      },
      "source": [
        "Implement count function and plot gender"
      ]
    },
    {
      "cell_type": "code",
      "metadata": {
        "colab": {
          "base_uri": "https://localhost:8080/",
          "height": 330
        },
        "id": "L3In_rm8fRnn",
        "outputId": "14a9438c-6872-418b-a6e5-6dccee9d45b8"
      },
      "source": [
        "#plot age parameters\n",
        "age = sns.countplot(x=\"Gender\", data=df, palette=\"husl\" , hue = \"Gender\" )\n",
        "#calculating male , female observations\n",
        "print(df['Gender'].value_counts())"
      ],
      "execution_count": null,
      "outputs": [
        {
          "output_type": "stream",
          "text": [
            "0    112\n",
            "1     88\n",
            "Name: Gender, dtype: int64\n"
          ],
          "name": "stdout"
        },
        {
          "output_type": "display_data",
          "data": {
            "image/png": "[encoded data removed]",
            "text/plain": [
              "<Figure size 432x288 with 1 Axes>"
            ]
          },
          "metadata": {
            "tags": [],
            "needs_background": "light"
          }
        }
      ]
    },
    {
      "cell_type": "markdown",
      "metadata": {
        "id": "ozAvQxSzg2Jv"
      },
      "source": [
        "From our sampling we can see that there are more female customers than men.\n"
      ]
    },
    {
      "cell_type": "code",
      "metadata": {
        "colab": {
          "base_uri": "https://localhost:8080/",
          "height": 567
        },
        "id": "If7szXN4jtn5",
        "outputId": "1d5ac317-b642-4499-f237-9444dfffc4f6"
      },
      "source": [
        "#Pairplot with variables we want to study\n",
        "sns.pairplot(df, vars=[\"Age\", \"Annual_Income\", \"Spending_Score\"],  kind =\"reg\", hue = \"Gender\", palette=\"husl\", markers = ['o','D'])"
      ],
      "execution_count": null,
      "outputs": [
        {
          "output_type": "execute_result",
          "data": {
            "text/plain": [
              "<seaborn.axisgrid.PairGrid at 0x7f92fad7e450>"
            ]
          },
          "metadata": {
            "tags": []
          },
          "execution_count": 62
        },
        {
          "output_type": "display_data",
          "data": {
            "image/png": "[encoded data removed]",
            "text/plain": [
              "<Figure size 584.875x540 with 12 Axes>"
            ]
          },
          "metadata": {
            "tags": [],
            "needs_background": "light"
          }
        }
      ]
    },
    {
      "cell_type": "markdown",
      "metadata": {
        "id": "eDWnourHnrSu"
      },
      "source": [
        "In the above pairplot we observe different variable how are related to each other.\n",
        "The pink colour is in a higher ratio than the blue one, since there are more women than men"
      ]
    },
    {
      "cell_type": "markdown",
      "metadata": {
        "id": "iZqKIF9OpwO3"
      },
      "source": [
        "Age and Annual Income"
      ]
    },
    {
      "cell_type": "code",
      "metadata": {
        "colab": {
          "base_uri": "https://localhost:8080/",
          "height": 400
        },
        "id": "qaOAw53TpyRw",
        "outputId": "e6a0107d-d5ff-47ca-d9b6-28da9ebfaa4f"
      },
      "source": [
        "sns.lmplot(x = \"Age\", y = \"Annual_Income\", data = df, hue = \"Gender\" , palette=\"husl\")"
      ],
      "execution_count": null,
      "outputs": [
        {
          "output_type": "execute_result",
          "data": {
            "text/plain": [
              "<seaborn.axisgrid.FacetGrid at 0x7f92fa60fd90>"
            ]
          },
          "metadata": {
            "tags": []
          },
          "execution_count": 70
        },
        {
          "output_type": "display_data",
          "data": {
            "image/png": "[encoded data removed]",
            "text/plain": [
              "<Figure size 404.875x360 with 1 Axes>"
            ]
          },
          "metadata": {
            "tags": [],
            "needs_background": "light"
          }
        }
      ]
    },
    {
      "cell_type": "markdown",
      "metadata": {
        "id": "xmUBbIBOrHxH"
      },
      "source": [
        "From the above graph people on  their thirties, forties and fifities tend to earn more money annually than the ones younger than thirty or older than fifty years old.\n",
        "A group of people whose age lays between thirty and fifty years old seem to get better jobs since they might be more experienced than those who are below thirties.\n",
        "Those below thirties are earning less because some are still in school or are dependent on those who are working.\n",
        "A group of people who are above fifty earn less probably because they don't have much energy or even because they have retired.\n",
        "Also, we are able to see how males tend to earn a little bit more money than females, at least until fifty years old."
      ]
    },
    {
      "cell_type": "markdown",
      "metadata": {
        "id": "V_KDCndZ0NOE"
      },
      "source": [
        "Spending Score and Annual Income"
      ]
    },
    {
      "cell_type": "code",
      "metadata": {
        "colab": {
          "base_uri": "https://localhost:8080/",
          "height": 401
        },
        "id": "whaP49Tg0gOX",
        "outputId": "a283bbc8-0926-4cbd-81da-3d84f42c8a9d"
      },
      "source": [
        "sns.lmplot(x = \"Annual_Income\", y = \"Spending_Score\", data = df, hue = \"Gender\", palette=\"husl\")"
      ],
      "execution_count": null,
      "outputs": [
        {
          "output_type": "execute_result",
          "data": {
            "text/plain": [
              "<seaborn.axisgrid.FacetGrid at 0x7f92fa4a8a50>"
            ]
          },
          "metadata": {
            "tags": []
          },
          "execution_count": 80
        },
        {
          "output_type": "display_data",
          "data": {
            "image/png": "[encoded data removed]",
            "text/plain": [
              "<Figure size 404.875x360 with 1 Axes>"
            ]
          },
          "metadata": {
            "tags": [],
            "needs_background": "light"
          }
        }
      ]
    },
    {
      "cell_type": "markdown",
      "metadata": {
        "id": "yS9yKO7K00uU"
      },
      "source": [
        "From the graph we can conclude that better annual income might lead to having a higher spending score, specially for women."
      ]
    },
    {
      "cell_type": "markdown",
      "metadata": {
        "id": "sXzS3Azb3NF2"
      },
      "source": [
        "Age and Spending Score"
      ]
    },
    {
      "cell_type": "code",
      "metadata": {
        "colab": {
          "base_uri": "https://localhost:8080/",
          "height": 400
        },
        "id": "VI1QBPJb3Qm7",
        "outputId": "9e8869bd-6aca-4edb-c9f2-68aeaed7c21f"
      },
      "source": [
        "sns.lmplot(x = \"Age\", y = \"Spending_Score\", data = df, hue = \"Gender\", palette=\"husl\")"
      ],
      "execution_count": null,
      "outputs": [
        {
          "output_type": "execute_result",
          "data": {
            "text/plain": [
              "<seaborn.axisgrid.FacetGrid at 0x7f92fa509d10>"
            ]
          },
          "metadata": {
            "tags": []
          },
          "execution_count": 77
        },
        {
          "output_type": "display_data",
          "data": {
            "image/png": "[encoded data removed]",
            "text/plain": [
              "<Figure size 404.875x360 with 1 Axes>"
            ]
          },
          "metadata": {
            "tags": [],
            "needs_background": "light"
          }
        }
      ]
    },
    {
      "cell_type": "markdown",
      "metadata": {
        "id": "vGeqV2l648ou"
      },
      "source": [
        "At this point we can predict that young people tend to spend more than older people. That can be due to a number of reasons:\n",
        "Young people usually have more free time than old people.\n",
        "A large number of young people are still in school and engaged with alot of activities.\n",
        "Shopping malls tend to have shops that target young people such as videogames, technology stores, sporting activities etc"
      ]
    },
    {
      "cell_type": "markdown",
      "metadata": {
        "id": "TBeZn4Er7Xok"
      },
      "source": [
        "**Selecting number of clusters**\n",
        "\n",
        "Elbow method assist us to decide the amount of clusters we want to divide our data in."
      ]
    },
    {
      "cell_type": "code",
      "metadata": {
        "id": "babjsIlt8vaz"
      },
      "source": [
        "#Creating values for the elbow\n",
        "X = df.loc[:,[\"Age\", \"Annual_Income\", \"Spending_Score\"]]\n",
        "inertia = []\n",
        "k = range(1,20)\n",
        "for i in k:\n",
        "    means_k = KMeans(n_clusters=i, random_state=0)\n",
        "    means_k.fit(X)\n",
        "    inertia.append(means_k.inertia_)"
      ],
      "execution_count": null,
      "outputs": []
    },
    {
      "cell_type": "code",
      "metadata": {
        "colab": {
          "base_uri": "https://localhost:8080/",
          "height": 279
        },
        "id": "G6FUIXf59COX",
        "outputId": "d13f8355-9859-4550-dc32-612283d45ca8"
      },
      "source": [
        "#Plotting the elbow\n",
        "plt.plot(k , inertia , 'bo-')\n",
        "plt.xlabel('Number of Clusters') , plt.ylabel('Inertia')\n",
        "plt.show()"
      ],
      "execution_count": null,
      "outputs": [
        {
          "output_type": "display_data",
          "data": {
            "image/png": "[encoded data removed]",
            "text/plain": [
              "<Figure size 432x288 with 1 Axes>"
            ]
          },
          "metadata": {
            "tags": [],
            "needs_background": "light"
          }
        }
      ]
    },
    {
      "cell_type": "markdown",
      "metadata": {
        "id": "89eFutqO95hc"
      },
      "source": [
        "Elbow method is useful in determining the optimal number of clusters in Kmeans clustering.\n",
        "This method plots the value of the cost function produced by different values of k and one should choose a number of clusters so that adding another cluster doesn't give much better modeling of the data.\n",
        "In this problem, we are using the inertia as cost function in order to identify the sum of squared distances of samples to the nearest cluster centre."
      ]
    },
    {
      "cell_type": "markdown",
      "metadata": {
        "id": "9ir3oWF5_U2S"
      },
      "source": [
        "***Clustering***\n",
        "\n",
        "In clustering we will not consider gender due to the following issues:\n",
        "Most shop target both males and females customers.\n",
        "In this dataset there is minimal difference between data for male and female.\n",
        "Lastly but not least is that we do not want to interefere with process of unsupervised learning.\n"
      ]
    },
    {
      "cell_type": "code",
      "metadata": {
        "id": "om7KkaE_A_cn"
      },
      "source": [
        "#Training kmeans with 5 clusters\n",
        "means_k = KMeans(n_clusters=5, random_state=0)\n",
        "means_k.fit(X)\n",
        "labels = means_k.labels_\n",
        "centroids = means_k.cluster_centers_"
      ],
      "execution_count": null,
      "outputs": []
    },
    {
      "cell_type": "markdown",
      "metadata": {
        "id": "dlvDrz5rBVmv"
      },
      "source": [
        "K-means algorithm has already finished its work and now it's time to plot the results "
      ]
    },
    {
      "cell_type": "code",
      "metadata": {
        "colab": {
          "base_uri": "https://localhost:8080/",
          "height": 542
        },
        "id": "b6tKum1fBcFO",
        "outputId": "b5992cda-7502-4a2b-e489-371893253c1f"
      },
      "source": [
        "#Create a 3d plot to view the data sepparation made by Kmeans\n",
        "trace1 = go.Scatter3d(\n",
        "    x= X['Spending_Score'],\n",
        "    y= X['Annual_Income'],\n",
        "    z= X['Age'],\n",
        "    mode='markers',\n",
        "     marker=dict(\n",
        "        color = labels, \n",
        "        size= 10,\n",
        "        line=dict(\n",
        "            color= labels,\n",
        "        ),\n",
        "        opacity = 0.9\n",
        "     )\n",
        ")\n",
        "layout = go.Layout(\n",
        "    title= 'Clusters',\n",
        "    scene = dict(\n",
        "            xaxis = dict(title  = 'Spending_score'),\n",
        "            yaxis = dict(title  = 'Annual_income'),\n",
        "            zaxis = dict(title  = 'Age')\n",
        "        )\n",
        ")\n",
        "fig = go.Figure(data=trace1, layout=layout)\n",
        "py.offline.iplot(fig)"
      ],
      "execution_count": null,
      "outputs": [
        {
          "output_type": "display_data",
          "data": {
            "text/html": [
              "<html>\n",
              "<head><meta charset=\"utf-8\" /></head>\n",
              "<body>\n",
              "    <div>\n",
              "            <script src=\"https://cdnjs.cloudflare.com/ajax/libs/mathjax/2.7.5/MathJax.js?config=TeX-AMS-MML_SVG\"></script><script type=\"text/javascript\">if (window.MathJax) {MathJax.Hub.Config({SVG: {font: \"STIX-Web\"}});}</script>\n",
              "                <script type=\"text/javascript\">window.PlotlyConfig = {MathJaxConfig: 'local'};</script>\n",
              "        <script src=\"https://cdn.plot.ly/plotly-latest.min.js\"></script>    \n",
              "            <div id=\"79e61ae5-40b2-4252-9a72-a55b94f4dc21\" class=\"plotly-graph-div\" style=\"height:525px; width:100%;\"></div>\n",
              "            <script type=\"text/javascript\">\n",
              "                \n",
              "                    window.PLOTLYENV=window.PLOTLYENV || {};\n",
              "                    \n",
              "                if (document.getElementById(\"79e61ae5-40b2-4252-9a72-a55b94f4dc21\")) {\n",
              "                    Plotly.newPlot(\n",
              "                        '79e61ae5-40b2-4252-9a72-a55b94f4dc21',\n",
              "                        [{\"marker\": {\"color\": [0, 4, 0, 4, 0, 4, 0, 4, 0, 4, 0, 4, 0, 4, 0, 4, 0, 4, 0, 4, 0, 4, 0, 4, 0, 4, 0, 4, 0, 4, 0, 4, 0, 4, 0, 4, 0, 4, 0, 4, 0, 4, 0, 4, 0, 4, 1, 1, 1, 1, 1, 1, 1, 1, 1, 1, 1, 1, 1, 1, 1, 1, 1, 1, 1, 1, 1, 1, 1, 1, 1, 1, 1, 1, 1, 1, 1, 1, 1, 1, 1, 1, 1, 1, 1, 1, 1, 1, 1, 1, 1, 1, 1, 1, 1, 1, 1, 1, 1, 1, 1, 1, 1, 1, 1, 1, 1, 1, 1, 1, 1, 1, 1, 1, 1, 1, 1, 1, 1, 1, 1, 1, 1, 2, 3, 2, 1, 2, 3, 2, 3, 2, 3, 2, 3, 2, 3, 2, 3, 2, 3, 2, 1, 2, 3, 2, 3, 2, 3, 2, 3, 2, 3, 2, 3, 2, 3, 2, 3, 2, 3, 2, 3, 2, 3, 2, 3, 2, 3, 2, 3, 2, 3, 2, 3, 2, 3, 2, 3, 2, 3, 2, 3, 2, 3, 2, 3, 2, 3, 2, 3, 2, 3, 2, 3, 2, 3, 2, 3, 2], \"line\": {\"color\": [0, 4, 0, 4, 0, 4, 0, 4, 0, 4, 0, 4, 0, 4, 0, 4, 0, 4, 0, 4, 0, 4, 0, 4, 0, 4, 0, 4, 0, 4, 0, 4, 0, 4, 0, 4, 0, 4, 0, 4, 0, 4, 0, 4, 0, 4, 1, 1, 1, 1, 1, 1, 1, 1, 1, 1, 1, 1, 1, 1, 1, 1, 1, 1, 1, 1, 1, 1, 1, 1, 1, 1, 1, 1, 1, 1, 1, 1, 1, 1, 1, 1, 1, 1, 1, 1, 1, 1, 1, 1, 1, 1, 1, 1, 1, 1, 1, 1, 1, 1, 1, 1, 1, 1, 1, 1, 1, 1, 1, 1, 1, 1, 1, 1, 1, 1, 1, 1, 1, 1, 1, 1, 1, 2, 3, 2, 1, 2, 3, 2, 3, 2, 3, 2, 3, 2, 3, 2, 3, 2, 3, 2, 1, 2, 3, 2, 3, 2, 3, 2, 3, 2, 3, 2, 3, 2, 3, 2, 3, 2, 3, 2, 3, 2, 3, 2, 3, 2, 3, 2, 3, 2, 3, 2, 3, 2, 3, 2, 3, 2, 3, 2, 3, 2, 3, 2, 3, 2, 3, 2, 3, 2, 3, 2, 3, 2, 3, 2, 3, 2]}, \"opacity\": 0.9, \"size\": 10}, \"mode\": \"markers\", \"type\": \"scatter3d\", \"x\": [39, 81, 6, 77, 40, 76, 6, 94, 3, 72, 14, 99, 15, 77, 13, 79, 35, 66, 29, 98, 35, 73, 5, 73, 14, 82, 32, 61, 31, 87, 4, 73, 4, 92, 14, 81, 17, 73, 26, 75, 35, 92, 36, 61, 28, 65, 55, 47, 42, 42, 52, 60, 54, 60, 45, 41, 50, 46, 51, 46, 56, 55, 52, 59, 51, 59, 50, 48, 59, 47, 55, 42, 49, 56, 47, 54, 53, 48, 52, 42, 51, 55, 41, 44, 57, 46, 58, 55, 60, 46, 55, 41, 49, 40, 42, 52, 47, 50, 42, 49, 41, 48, 59, 55, 56, 42, 50, 46, 43, 48, 52, 54, 42, 46, 48, 50, 43, 59, 43, 57, 56, 40, 58, 91, 29, 77, 35, 95, 11, 75, 9, 75, 34, 71, 5, 88, 7, 73, 10, 72, 5, 93, 40, 87, 12, 97, 36, 74, 22, 90, 17, 88, 20, 76, 16, 89, 1, 78, 1, 73, 35, 83, 5, 93, 26, 75, 20, 95, 27, 63, 13, 75, 10, 92, 13, 86, 15, 69, 14, 90, 32, 86, 15, 88, 39, 97, 24, 68, 17, 85, 23, 69, 8, 91, 16, 79, 28, 74, 18, 83], \"y\": [15, 15, 16, 16, 17, 17, 18, 18, 19, 19, 19, 19, 20, 20, 20, 20, 21, 21, 23, 23, 24, 24, 25, 25, 28, 28, 28, 28, 29, 29, 30, 30, 33, 33, 33, 33, 34, 34, 37, 37, 38, 38, 39, 39, 39, 39, 40, 40, 40, 40, 42, 42, 43, 43, 43, 43, 44, 44, 46, 46, 46, 46, 47, 47, 48, 48, 48, 48, 48, 48, 49, 49, 50, 50, 54, 54, 54, 54, 54, 54, 54, 54, 54, 54, 54, 54, 57, 57, 58, 58, 59, 59, 60, 60, 60, 60, 60, 60, 61, 61, 62, 62, 62, 62, 62, 62, 63, 63, 63, 63, 63, 63, 64, 64, 65, 65, 65, 65, 67, 67, 67, 67, 69, 69, 70, 70, 71, 71, 71, 71, 71, 71, 72, 72, 73, 73, 73, 73, 74, 74, 75, 75, 76, 76, 77, 77, 77, 77, 78, 78, 78, 78, 78, 78, 78, 78, 78, 78, 78, 78, 79, 79, 81, 81, 85, 85, 86, 86, 87, 87, 87, 87, 87, 87, 88, 88, 88, 88, 93, 93, 97, 97, 98, 98, 99, 99, 101, 101, 103, 103, 103, 103, 113, 113, 120, 120, 126, 126, 137, 137], \"z\": [19, 21, 20, 23, 31, 22, 35, 23, 64, 30, 67, 35, 58, 24, 37, 22, 35, 20, 52, 35, 35, 25, 46, 31, 54, 29, 45, 35, 40, 23, 60, 21, 53, 18, 49, 21, 42, 30, 36, 20, 65, 24, 48, 31, 49, 24, 50, 27, 29, 31, 49, 33, 31, 59, 50, 47, 51, 69, 27, 53, 70, 19, 67, 54, 63, 18, 43, 68, 19, 32, 70, 47, 60, 60, 59, 26, 45, 40, 23, 49, 57, 38, 67, 46, 21, 48, 55, 22, 34, 50, 68, 18, 48, 40, 32, 24, 47, 27, 48, 20, 23, 49, 67, 26, 49, 21, 66, 54, 68, 66, 65, 19, 38, 19, 18, 19, 63, 49, 51, 50, 27, 38, 40, 39, 23, 31, 43, 40, 59, 38, 47, 39, 25, 31, 20, 29, 44, 32, 19, 35, 57, 32, 28, 32, 25, 28, 48, 32, 34, 34, 43, 39, 44, 38, 47, 27, 37, 30, 34, 30, 56, 29, 19, 31, 50, 36, 42, 33, 36, 32, 40, 28, 36, 36, 52, 30, 58, 27, 59, 35, 37, 32, 46, 29, 41, 30, 54, 28, 41, 36, 34, 32, 33, 38, 47, 35, 45, 32, 32, 30]}],\n",
              "                        {\"scene\": {\"xaxis\": {\"title\": {\"text\": \"Spending_score\"}}, \"yaxis\": {\"title\": {\"text\": \"Annual_income\"}}, \"zaxis\": {\"title\": {\"text\": \"Age\"}}}, \"template\": {\"data\": {\"bar\": [{\"error_x\": {\"color\": \"#2a3f5f\"}, \"error_y\": {\"color\": \"#2a3f5f\"}, \"marker\": {\"line\": {\"color\": \"#E5ECF6\", \"width\": 0.5}}, \"type\": \"bar\"}], \"barpolar\": [{\"marker\": {\"line\": {\"color\": \"#E5ECF6\", \"width\": 0.5}}, \"type\": \"barpolar\"}], \"carpet\": [{\"aaxis\": {\"endlinecolor\": \"#2a3f5f\", \"gridcolor\": \"white\", \"linecolor\": \"white\", \"minorgridcolor\": \"white\", \"startlinecolor\": \"#2a3f5f\"}, \"baxis\": {\"endlinecolor\": \"#2a3f5f\", \"gridcolor\": \"white\", \"linecolor\": \"white\", \"minorgridcolor\": \"white\", \"startlinecolor\": \"#2a3f5f\"}, \"type\": \"carpet\"}], \"choropleth\": [{\"colorbar\": {\"outlinewidth\": 0, \"ticks\": \"\"}, \"type\": \"choropleth\"}], \"contour\": [{\"colorbar\": {\"outlinewidth\": 0, \"ticks\": \"\"}, \"colorscale\": [[0.0, \"#0d0887\"], [0.1111111111111111, \"#46039f\"], [0.2222222222222222, \"#7201a8\"], [0.3333333333333333, \"#9c179e\"], [0.4444444444444444, \"#bd3786\"], [0.5555555555555556, \"#d8576b\"], [0.6666666666666666, \"#ed7953\"], [0.7777777777777778, \"#fb9f3a\"], [0.8888888888888888, \"#fdca26\"], [1.0, \"#f0f921\"]], \"type\": \"contour\"}], \"contourcarpet\": [{\"colorbar\": {\"outlinewidth\": 0, \"ticks\": \"\"}, \"type\": \"contourcarpet\"}], \"heatmap\": [{\"colorbar\": {\"outlinewidth\": 0, \"ticks\": \"\"}, \"colorscale\": [[0.0, \"#0d0887\"], [0.1111111111111111, \"#46039f\"], [0.2222222222222222, \"#7201a8\"], [0.3333333333333333, \"#9c179e\"], [0.4444444444444444, \"#bd3786\"], [0.5555555555555556, \"#d8576b\"], [0.6666666666666666, \"#ed7953\"], [0.7777777777777778, \"#fb9f3a\"], [0.8888888888888888, \"#fdca26\"], [1.0, \"#f0f921\"]], \"type\": \"heatmap\"}], \"heatmapgl\": [{\"colorbar\": {\"outlinewidth\": 0, \"ticks\": \"\"}, \"colorscale\": [[0.0, \"#0d0887\"], [0.1111111111111111, \"#46039f\"], [0.2222222222222222, \"#7201a8\"], [0.3333333333333333, \"#9c179e\"], [0.4444444444444444, \"#bd3786\"], [0.5555555555555556, \"#d8576b\"], [0.6666666666666666, \"#ed7953\"], [0.7777777777777778, \"#fb9f3a\"], [0.8888888888888888, \"#fdca26\"], [1.0, \"#f0f921\"]], \"type\": \"heatmapgl\"}], \"histogram\": [{\"marker\": {\"colorbar\": {\"outlinewidth\": 0, \"ticks\": \"\"}}, \"type\": \"histogram\"}], \"histogram2d\": [{\"colorbar\": {\"outlinewidth\": 0, \"ticks\": \"\"}, \"colorscale\": [[0.0, \"#0d0887\"], [0.1111111111111111, \"#46039f\"], [0.2222222222222222, \"#7201a8\"], [0.3333333333333333, \"#9c179e\"], [0.4444444444444444, \"#bd3786\"], [0.5555555555555556, \"#d8576b\"], [0.6666666666666666, \"#ed7953\"], [0.7777777777777778, \"#fb9f3a\"], [0.8888888888888888, \"#fdca26\"], [1.0, \"#f0f921\"]], \"type\": \"histogram2d\"}], \"histogram2dcontour\": [{\"colorbar\": {\"outlinewidth\": 0, \"ticks\": \"\"}, \"colorscale\": [[0.0, \"#0d0887\"], [0.1111111111111111, \"#46039f\"], [0.2222222222222222, \"#7201a8\"], [0.3333333333333333, \"#9c179e\"], [0.4444444444444444, \"#bd3786\"], [0.5555555555555556, \"#d8576b\"], [0.6666666666666666, \"#ed7953\"], [0.7777777777777778, \"#fb9f3a\"], [0.8888888888888888, \"#fdca26\"], [1.0, \"#f0f921\"]], \"type\": \"histogram2dcontour\"}], \"mesh3d\": [{\"colorbar\": {\"outlinewidth\": 0, \"ticks\": \"\"}, \"type\": \"mesh3d\"}], \"parcoords\": [{\"line\": {\"colorbar\": {\"outlinewidth\": 0, \"ticks\": \"\"}}, \"type\": \"parcoords\"}], \"pie\": [{\"automargin\": true, \"type\": \"pie\"}], \"scatter\": [{\"marker\": {\"colorbar\": {\"outlinewidth\": 0, \"ticks\": \"\"}}, \"type\": \"scatter\"}], \"scatter3d\": [{\"line\": {\"colorbar\": {\"outlinewidth\": 0, \"ticks\": \"\"}}, \"marker\": {\"colorbar\": {\"outlinewidth\": 0, \"ticks\": \"\"}}, \"type\": \"scatter3d\"}], \"scattercarpet\": [{\"marker\": {\"colorbar\": {\"outlinewidth\": 0, \"ticks\": \"\"}}, \"type\": \"scattercarpet\"}], \"scattergeo\": [{\"marker\": {\"colorbar\": {\"outlinewidth\": 0, \"ticks\": \"\"}}, \"type\": \"scattergeo\"}], \"scattergl\": [{\"marker\": {\"colorbar\": {\"outlinewidth\": 0, \"ticks\": \"\"}}, \"type\": \"scattergl\"}], \"scattermapbox\": [{\"marker\": {\"colorbar\": {\"outlinewidth\": 0, \"ticks\": \"\"}}, \"type\": \"scattermapbox\"}], \"scatterpolar\": [{\"marker\": {\"colorbar\": {\"outlinewidth\": 0, \"ticks\": \"\"}}, \"type\": \"scatterpolar\"}], \"scatterpolargl\": [{\"marker\": {\"colorbar\": {\"outlinewidth\": 0, \"ticks\": \"\"}}, \"type\": \"scatterpolargl\"}], \"scatterternary\": [{\"marker\": {\"colorbar\": {\"outlinewidth\": 0, \"ticks\": \"\"}}, \"type\": \"scatterternary\"}], \"surface\": [{\"colorbar\": {\"outlinewidth\": 0, \"ticks\": \"\"}, \"colorscale\": [[0.0, \"#0d0887\"], [0.1111111111111111, \"#46039f\"], [0.2222222222222222, \"#7201a8\"], [0.3333333333333333, \"#9c179e\"], [0.4444444444444444, \"#bd3786\"], [0.5555555555555556, \"#d8576b\"], [0.6666666666666666, \"#ed7953\"], [0.7777777777777778, \"#fb9f3a\"], [0.8888888888888888, \"#fdca26\"], [1.0, \"#f0f921\"]], \"type\": \"surface\"}], \"table\": [{\"cells\": {\"fill\": {\"color\": \"#EBF0F8\"}, \"line\": {\"color\": \"white\"}}, \"header\": {\"fill\": {\"color\": \"#C8D4E3\"}, \"line\": {\"color\": \"white\"}}, \"type\": \"table\"}]}, \"layout\": {\"annotationdefaults\": {\"arrowcolor\": \"#2a3f5f\", \"arrowhead\": 0, \"arrowwidth\": 1}, \"coloraxis\": {\"colorbar\": {\"outlinewidth\": 0, \"ticks\": \"\"}}, \"colorscale\": {\"diverging\": [[0, \"#8e0152\"], [0.1, \"#c51b7d\"], [0.2, \"#de77ae\"], [0.3, \"#f1b6da\"], [0.4, \"#fde0ef\"], [0.5, \"#f7f7f7\"], [0.6, \"#e6f5d0\"], [0.7, \"#b8e186\"], [0.8, \"#7fbc41\"], [0.9, \"#4d9221\"], [1, \"#276419\"]], \"sequential\": [[0.0, \"#0d0887\"], [0.1111111111111111, \"#46039f\"], [0.2222222222222222, \"#7201a8\"], [0.3333333333333333, \"#9c179e\"], [0.4444444444444444, \"#bd3786\"], [0.5555555555555556, \"#d8576b\"], [0.6666666666666666, \"#ed7953\"], [0.7777777777777778, \"#fb9f3a\"], [0.8888888888888888, \"#fdca26\"], [1.0, \"#f0f921\"]], \"sequentialminus\": [[0.0, \"#0d0887\"], [0.1111111111111111, \"#46039f\"], [0.2222222222222222, \"#7201a8\"], [0.3333333333333333, \"#9c179e\"], [0.4444444444444444, \"#bd3786\"], [0.5555555555555556, \"#d8576b\"], [0.6666666666666666, \"#ed7953\"], [0.7777777777777778, \"#fb9f3a\"], [0.8888888888888888, \"#fdca26\"], [1.0, \"#f0f921\"]]}, \"colorway\": [\"#636efa\", \"#EF553B\", \"#00cc96\", \"#ab63fa\", \"#FFA15A\", \"#19d3f3\", \"#FF6692\", \"#B6E880\", \"#FF97FF\", \"#FECB52\"], \"font\": {\"color\": \"#2a3f5f\"}, \"geo\": {\"bgcolor\": \"white\", \"lakecolor\": \"white\", \"landcolor\": \"#E5ECF6\", \"showlakes\": true, \"showland\": true, \"subunitcolor\": \"white\"}, \"hoverlabel\": {\"align\": \"left\"}, \"hovermode\": \"closest\", \"mapbox\": {\"style\": \"light\"}, \"paper_bgcolor\": \"white\", \"plot_bgcolor\": \"#E5ECF6\", \"polar\": {\"angularaxis\": {\"gridcolor\": \"white\", \"linecolor\": \"white\", \"ticks\": \"\"}, \"bgcolor\": \"#E5ECF6\", \"radialaxis\": {\"gridcolor\": \"white\", \"linecolor\": \"white\", \"ticks\": \"\"}}, \"scene\": {\"xaxis\": {\"backgroundcolor\": \"#E5ECF6\", \"gridcolor\": \"white\", \"gridwidth\": 2, \"linecolor\": \"white\", \"showbackground\": true, \"ticks\": \"\", \"zerolinecolor\": \"white\"}, \"yaxis\": {\"backgroundcolor\": \"#E5ECF6\", \"gridcolor\": \"white\", \"gridwidth\": 2, \"linecolor\": \"white\", \"showbackground\": true, \"ticks\": \"\", \"zerolinecolor\": \"white\"}, \"zaxis\": {\"backgroundcolor\": \"#E5ECF6\", \"gridcolor\": \"white\", \"gridwidth\": 2, \"linecolor\": \"white\", \"showbackground\": true, \"ticks\": \"\", \"zerolinecolor\": \"white\"}}, \"shapedefaults\": {\"line\": {\"color\": \"#2a3f5f\"}}, \"ternary\": {\"aaxis\": {\"gridcolor\": \"white\", \"linecolor\": \"white\", \"ticks\": \"\"}, \"baxis\": {\"gridcolor\": \"white\", \"linecolor\": \"white\", \"ticks\": \"\"}, \"bgcolor\": \"#E5ECF6\", \"caxis\": {\"gridcolor\": \"white\", \"linecolor\": \"white\", \"ticks\": \"\"}}, \"title\": {\"x\": 0.05}, \"xaxis\": {\"automargin\": true, \"gridcolor\": \"white\", \"linecolor\": \"white\", \"ticks\": \"\", \"title\": {\"standoff\": 15}, \"zerolinecolor\": \"white\", \"zerolinewidth\": 2}, \"yaxis\": {\"automargin\": true, \"gridcolor\": \"white\", \"linecolor\": \"white\", \"ticks\": \"\", \"title\": {\"standoff\": 15}, \"zerolinecolor\": \"white\", \"zerolinewidth\": 2}}}, \"title\": {\"text\": \"Clusters\"}},\n",
              "                        {\"responsive\": true}\n",
              "                    ).then(function(){\n",
              "                            \n",
              "var gd = document.getElementById('79e61ae5-40b2-4252-9a72-a55b94f4dc21');\n",
              "var x = new MutationObserver(function (mutations, observer) {{\n",
              "        var display = window.getComputedStyle(gd).display;\n",
              "        if (!display || display === 'none') {{\n",
              "            console.log([gd, 'removed!']);\n",
              "            Plotly.purge(gd);\n",
              "            observer.disconnect();\n",
              "        }}\n",
              "}});\n",
              "\n",
              "// Listen for the removal of the full notebook cells\n",
              "var notebookContainer = gd.closest('#notebook-container');\n",
              "if (notebookContainer) {{\n",
              "    x.observe(notebookContainer, {childList: true});\n",
              "}}\n",
              "\n",
              "// Listen for the clearing of the current output cell\n",
              "var outputEl = gd.closest('.output');\n",
              "if (outputEl) {{\n",
              "    x.observe(outputEl, {childList: true});\n",
              "}}\n",
              "\n",
              "                        })\n",
              "                };\n",
              "                \n",
              "            </script>\n",
              "        </div>\n",
              "</body>\n",
              "</html>"
            ]
          },
          "metadata": {
            "tags": []
          }
        }
      ]
    },
    {
      "cell_type": "markdown",
      "metadata": {
        "id": "H6hNi6uYCoeh"
      },
      "source": [
        "The results are obtained by K-means on this 3D graphic,\n",
        "\n",
        "Yellow Cluster - The yellow cluster groups young people with moderate to low annual income who actually spend a lot.\n",
        "\n",
        "Purple Cluster - The purple cluster groups reasonably young people with pretty decent salaries who spend a lot.\n",
        "\n",
        "Pink Cluster - The pink cluster basically groups people of all ages whose salary isn't pretty high and their spending score is moderate.\n",
        "\n",
        "Orange Cluster - The orange cluster groups people who actually have pretty good salaries and barely spend money, their age usually lays between thirty and sixty years.\n",
        "\n",
        "Blue Cluster - The blue cluster groups whose salary is pretty low and don't spend much money in stores, they are people of all ages."
      ]
    }
  ]
}